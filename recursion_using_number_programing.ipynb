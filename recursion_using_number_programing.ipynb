{
 "cells": [
  {
   "cell_type": "markdown",
   "id": "5c0d8f36",
   "metadata": {},
   "source": [
    "# recursion"
   ]
  },
  {
   "cell_type": "code",
   "execution_count": 5,
   "id": "7cce0122",
   "metadata": {},
   "outputs": [
    {
     "name": "stdout",
     "output_type": "stream",
     "text": [
      "1\n",
      "2\n",
      "3\n",
      "4\n",
      "5\n",
      "6\n",
      "7\n",
      "8\n",
      "9\n",
      "None\n"
     ]
    }
   ],
   "source": [
    "#write a programe to print 1 to 10 using recursion\n",
    "def fun(n):\n",
    "    if n==10:\n",
    "        return 5==5\n",
    "    print(n)\n",
    "    fun(n+1)\n",
    "print(fun(1))"
   ]
  },
  {
   "cell_type": "code",
   "execution_count": 6,
   "id": "419989a1",
   "metadata": {},
   "outputs": [
    {
     "name": "stdout",
     "output_type": "stream",
     "text": [
      "-1\n",
      "-2\n",
      "-3\n",
      "-4\n",
      "-5\n",
      "-6\n",
      "-7\n",
      "-8\n",
      "-9\n",
      "-10\n"
     ]
    }
   ],
   "source": [
    "#write a programe to print -1 to -10 using recursion\n",
    "def fun(n):\n",
    "    if n==-11:\n",
    "        return\n",
    "    print(n)\n",
    "    fun(n-1)\n",
    "fun(-1)"
   ]
  },
  {
   "cell_type": "code",
   "execution_count": 11,
   "id": "0eafd84b",
   "metadata": {},
   "outputs": [
    {
     "name": "stdout",
     "output_type": "stream",
     "text": [
      "15\n"
     ]
    }
   ],
   "source": [
    "#write a programe to print sum of 5 natural number\n",
    "def fun(n):\n",
    "    if n==1:\n",
    "        return 1\n",
    "    return n+fun(n-1)\n",
    "print(fun(5))"
   ]
  },
  {
   "cell_type": "code",
   "execution_count": 13,
   "id": "6364286a",
   "metadata": {},
   "outputs": [
    {
     "name": "stdout",
     "output_type": "stream",
     "text": [
      "120\n"
     ]
    }
   ],
   "source": [
    "def factorial(n):\n",
    "    if n==1:\n",
    "        return 1\n",
    "    return n*factorial(n-1)\n",
    "print(factorial(5))\n"
   ]
  },
  {
   "cell_type": "code",
   "execution_count": 22,
   "id": "d4dfab59",
   "metadata": {},
   "outputs": [
    {
     "name": "stdout",
     "output_type": "stream",
     "text": [
      "True\n"
     ]
    }
   ],
   "source": [
    "def prime(num,count=2):\n",
    "    if num%count==0 or num==1:\n",
    "        return False\n",
    "    if count==num-1:\n",
    "        return True\n",
    "    return prime(num,count+1)\n",
    "print(prime(5))"
   ]
  },
  {
   "cell_type": "code",
   "execution_count": 3,
   "id": "9b3b3896",
   "metadata": {},
   "outputs": [
    {
     "name": "stdout",
     "output_type": "stream",
     "text": [
      "True\n"
     ]
    }
   ],
   "source": [
    "def prime(num,fa=2):\n",
    "    if num%fa==0 or num==1:\n",
    "        return False\n",
    "    if fa==num-1:\n",
    "        return True\n",
    "    return prime(num,fa+1)\n",
    "print(prime(5))"
   ]
  },
  {
   "cell_type": "code",
   "execution_count": 19,
   "id": "40ea0897",
   "metadata": {},
   "outputs": [
    {
     "name": "stdout",
     "output_type": "stream",
     "text": [
      "True\n"
     ]
    }
   ],
   "source": [
    "def armstrong(num,copy,res=0):\n",
    "    p=len(str(copy))\n",
    "    \n",
    "    if num==0:\n",
    "        return copy==res\n",
    "    rem=num%10\n",
    "    res+=rem**p\n",
    "    num//=10\n",
    "    return armstrong(num,copy,res)\n",
    "\n",
    "print(armstrong(153,153))"
   ]
  },
  {
   "cell_type": "code",
   "execution_count": 23,
   "id": "de709c7b",
   "metadata": {},
   "outputs": [
    {
     "name": "stdout",
     "output_type": "stream",
     "text": [
      "True\n"
     ]
    }
   ],
   "source": [
    "def pronic(num,n=1):\n",
    "    if n*(n+1)==num:\n",
    "        return True\n",
    "    if n*(n+1)>=num:\n",
    "        return False\n",
    "    return pronic(num,n+1)\n",
    "print(pronic(20))"
   ]
  },
  {
   "cell_type": "code",
   "execution_count": 6,
   "id": "2f5c64a8",
   "metadata": {},
   "outputs": [
    {
     "name": "stdout",
     "output_type": "stream",
     "text": [
      "True\n"
     ]
    }
   ],
   "source": [
    "def perfect(num,fa=1,Sum=0):\n",
    "    if num%fa==0:\n",
    "        Sum+=fa\n",
    "    if num-1==fa:\n",
    "        return Sum==num\n",
    "    return perfect(num,fa+1,Sum)\n",
    "print(perfect(6))"
   ]
  },
  {
   "cell_type": "code",
   "execution_count": 9,
   "id": "4378629f",
   "metadata": {},
   "outputs": [
    {
     "name": "stdout",
     "output_type": "stream",
     "text": [
      "True\n"
     ]
    }
   ],
   "source": [
    "def sunny(num,n=1):\n",
    "    if n**2==(num+1):\n",
    "        return True\n",
    "    if n**2>=(num+1):\n",
    "        return False\n",
    "    return sunny(num,n+1)\n",
    "print(sunny(35))"
   ]
  },
  {
   "cell_type": "code",
   "execution_count": 11,
   "id": "8c3e526c",
   "metadata": {},
   "outputs": [
    {
     "name": "stdout",
     "output_type": "stream",
     "text": [
      "True\n"
     ]
    }
   ],
   "source": [
    "def niven(num,copy,add=0):\n",
    "    if num==0:\n",
    "        return copy%add==0\n",
    "    rem=num%10\n",
    "    add+=rem\n",
    "    num//=10\n",
    "    return niven(num,copy,add)\n",
    "print(niven(12,12))"
   ]
  },
  {
   "cell_type": "code",
   "execution_count": 14,
   "id": "ef578488",
   "metadata": {},
   "outputs": [
    {
     "name": "stdout",
     "output_type": "stream",
     "text": [
      "True\n"
     ]
    }
   ],
   "source": [
    "def palindrom(num,copy,rev=0):\n",
    "    if num==0:\n",
    "        return copy == rev\n",
    "    rem = num%10\n",
    "    rev = rev*10+rem\n",
    "    num//=10\n",
    "    return palindrom(num,copy,rev)\n",
    "print(palindrom(11,11))"
   ]
  },
  {
   "cell_type": "code",
   "execution_count": 15,
   "id": "73e45aed",
   "metadata": {},
   "outputs": [
    {
     "name": "stdout",
     "output_type": "stream",
     "text": [
      "True\n"
     ]
    }
   ],
   "source": [
    "def palindrom(num,copy,rev=0):\n",
    "    if num==0:\n",
    "        return copy == rev\n",
    "    rem = num%10\n",
    "    rev = rev*10+rem\n",
    "    num//=10\n",
    "    return palindrom(num,copy,rev)\n",
    "def prime(num,fa=2):\n",
    "    if num%fa==0 or num==1:\n",
    "        return False\n",
    "    if fa==num-1:\n",
    "        return True\n",
    "    return prime(num,fa+1)\n",
    "def paliprime(num):\n",
    "    return palindrom(num,num) and prime(num)\n",
    "print(paliprime(11))"
   ]
  },
  {
   "cell_type": "code",
   "execution_count": 3,
   "id": "2ca2f44f",
   "metadata": {},
   "outputs": [
    {
     "name": "stdout",
     "output_type": "stream",
     "text": [
      "True\n"
     ]
    }
   ],
   "source": [
    "def prime(num,fa=2):\n",
    "    if num%fa==0:\n",
    "        return False\n",
    "    if fa==num-1:\n",
    "        return True\n",
    "    return prime(num,fa+1)\n",
    "\n",
    "def rev(num,copy,res=0):\n",
    "    if num == 0:\n",
    "        return res\n",
    "    rem = num%10\n",
    "    res = res*10+rem\n",
    "    num//=10\n",
    "    return rev(num,copy,res)\n",
    "def emirp(num):\n",
    "    reverse= rev(num,num)\n",
    "    return prime(num) and rev(num,num)!=num and prime(reverse,2)\n",
    "print(emirp(17))"
   ]
  },
  {
   "cell_type": "code",
   "execution_count": 13,
   "id": "1d2c292f",
   "metadata": {
    "scrolled": true
   },
   "outputs": [
    {
     "name": "stdout",
     "output_type": "stream",
     "text": [
      "True\n"
     ]
    }
   ],
   "source": [
    "def spy(num,P=1,Sum=0):\n",
    "    if num ==0:\n",
    "        return P==Sum\n",
    "    rem= num%10\n",
    "    Sum+= rem\n",
    "    P*=rem\n",
    "    num//=10\n",
    "    return spy(num,P,Sum)\n",
    "print(spy(123))"
   ]
  },
  {
   "cell_type": "code",
   "execution_count": 1,
   "id": "f68142d2",
   "metadata": {},
   "outputs": [
    {
     "name": "stdout",
     "output_type": "stream",
     "text": [
      "[0, 1, 1, 2, 3]\n"
     ]
    }
   ],
   "source": [
    "def fib(target, f=0, s=1, L=[]):\n",
    "    if target == 0:\n",
    "        return L\n",
    "    L.append(f)\n",
    "    return fib(target - 1, s, f + s, L)\n",
    "\n",
    "result = fib(5)\n",
    "print(result)"
   ]
  },
  {
   "cell_type": "code",
   "execution_count": null,
   "id": "30ed7d32",
   "metadata": {},
   "outputs": [],
   "source": []
  }
 ],
 "metadata": {
  "kernelspec": {
   "display_name": "Python 3 (ipykernel)",
   "language": "python",
   "name": "python3"
  },
  "language_info": {
   "codemirror_mode": {
    "name": "ipython",
    "version": 3
   },
   "file_extension": ".py",
   "mimetype": "text/x-python",
   "name": "python",
   "nbconvert_exporter": "python",
   "pygments_lexer": "ipython3",
   "version": "3.9.13"
  }
 },
 "nbformat": 4,
 "nbformat_minor": 5
}
