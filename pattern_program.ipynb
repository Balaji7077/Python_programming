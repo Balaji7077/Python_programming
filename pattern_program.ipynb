{
 "cells": [
  {
   "cell_type": "markdown",
   "id": "6e41a14e",
   "metadata": {},
   "source": [
    "# pattern programs\n"
   ]
  },
  {
   "cell_type": "code",
   "execution_count": 2,
   "id": "31e4cb63",
   "metadata": {},
   "outputs": [
    {
     "name": "stdout",
     "output_type": "stream",
     "text": [
      "***\n",
      "***\n",
      "***\n",
      "***\n",
      "***\n"
     ]
    }
   ],
   "source": [
    "for star in range(5):\n",
    "    print('*'*3)"
   ]
  },
  {
   "cell_type": "code",
   "execution_count": 3,
   "id": "0cecc18a",
   "metadata": {},
   "outputs": [
    {
     "name": "stdout",
     "output_type": "stream",
     "text": [
      "*****\n",
      "****\n",
      "***\n",
      "**\n",
      "*\n"
     ]
    }
   ],
   "source": [
    "for star in range(5,0,-1):\n",
    "    print('*' * star)"
   ]
  },
  {
   "cell_type": "code",
   "execution_count": 4,
   "id": "ccf14b67",
   "metadata": {},
   "outputs": [
    {
     "name": "stdout",
     "output_type": "stream",
     "text": [
      "*\n",
      "**\n",
      "***\n",
      "****\n",
      "*****\n"
     ]
    }
   ],
   "source": [
    "for star in range(1,6):\n",
    "    print('*'*star)"
   ]
  },
  {
   "cell_type": "code",
   "execution_count": 5,
   "id": "60176c18",
   "metadata": {},
   "outputs": [
    {
     "name": "stdout",
     "output_type": "stream",
     "text": [
      "----*\n",
      "---**\n",
      "--***\n",
      "-****\n",
      "*****\n"
     ]
    }
   ],
   "source": [
    "space=4\n",
    "for star in range(1,6):\n",
    "    print('-'*space,'*'*star,sep='')\n",
    "    space-=1"
   ]
  },
  {
   "cell_type": "code",
   "execution_count": 6,
   "id": "3d851c1a",
   "metadata": {},
   "outputs": [
    {
     "name": "stdout",
     "output_type": "stream",
     "text": [
      "----*\n",
      "---***\n",
      "--*****\n",
      "-*******\n",
      "*********\n"
     ]
    }
   ],
   "source": [
    "space=4\n",
    "for star in range(1,10,2):\n",
    "    print('-'*space,'*'*star,sep='')\n",
    "    space-=1"
   ]
  },
  {
   "cell_type": "code",
   "execution_count": null,
   "id": "5a5edbfe",
   "metadata": {},
   "outputs": [],
   "source": []
  },
  {
   "cell_type": "code",
   "execution_count": 5,
   "id": "e99ae18a",
   "metadata": {},
   "outputs": [
    {
     "name": "stdout",
     "output_type": "stream",
     "text": [
      "*******\n",
      "-******\n",
      "--*****\n",
      "---****\n"
     ]
    }
   ],
   "source": [
    "space=0\n",
    "for star in range(7,3,-1):\n",
    "    print('-'*space,'*'*star,sep='')\n",
    "    space+=1"
   ]
  },
  {
   "cell_type": "code",
   "execution_count": 8,
   "id": "752549a1",
   "metadata": {},
   "outputs": [
    {
     "name": "stdout",
     "output_type": "stream",
     "text": [
      "---*\n",
      "--***\n",
      "-*****\n",
      "*******\n",
      "-*****\n",
      "--***\n",
      "---*\n"
     ]
    }
   ],
   "source": [
    "space=3\n",
    "for star in range(1,6,2):\n",
    "    print('-'*space,'*'*star,sep='')\n",
    "    space-=1\n",
    "space=0\n",
    "for star in range(7,0,-2):\n",
    "    print('-'*space,'*'*star,sep='')\n",
    "    space+=1\n",
    "    "
   ]
  },
  {
   "cell_type": "code",
   "execution_count": 15,
   "id": "716ed017",
   "metadata": {},
   "outputs": [
    {
     "name": "stdout",
     "output_type": "stream",
     "text": [
      "11111\n",
      "2222\n",
      "333\n",
      "44\n",
      "5\n"
     ]
    }
   ],
   "source": [
    "count=5\n",
    "for num in range(1,6):\n",
    "    print(str(num)*count)\n",
    "    count-=1"
   ]
  },
  {
   "cell_type": "code",
   "execution_count": 16,
   "id": "d843d616",
   "metadata": {},
   "outputs": [
    {
     "name": "stdout",
     "output_type": "stream",
     "text": [
      "54321\n",
      "54321\n",
      "54321\n",
      "54321\n",
      "54321\n"
     ]
    }
   ],
   "source": [
    "for num in range(5):\n",
    "    for num in range(5,0,-1):\n",
    "        print(num,end='')\n",
    "    print()"
   ]
  },
  {
   "cell_type": "code",
   "execution_count": 20,
   "id": "a3eafa06",
   "metadata": {},
   "outputs": [
    {
     "name": "stdout",
     "output_type": "stream",
     "text": [
      "----1\n",
      "---22\n",
      "--333\n",
      "-4444\n",
      "55555\n"
     ]
    }
   ],
   "source": [
    "space,count=4,1\n",
    "for num in range(1,6):\n",
    "    print('-'*space,(str(num)+'')*count,sep='')\n",
    "    space-=1\n",
    "    count+=1"
   ]
  },
  {
   "cell_type": "code",
   "execution_count": 25,
   "id": "2591f9f2",
   "metadata": {},
   "outputs": [
    {
     "name": "stdout",
     "output_type": "stream",
     "text": [
      "12345\n",
      "1234\n",
      "123\n",
      "12\n",
      "1\n"
     ]
    }
   ],
   "source": [
    "for ev in range(6,1,-1):\n",
    "    for num in range(1,ev):\n",
    "        print(num,end='')\n",
    "    print()"
   ]
  },
  {
   "cell_type": "code",
   "execution_count": 2,
   "id": "a6af404e",
   "metadata": {},
   "outputs": [
    {
     "name": "stdout",
     "output_type": "stream",
     "text": [
      "1\n",
      "12\n",
      "123\n",
      "1234\n",
      "12345\n"
     ]
    }
   ],
   "source": [
    "for ev in range(2,7):\n",
    "    for num in range(1,ev):\n",
    "        print(num,end='')\n",
    "    print()"
   ]
  },
  {
   "cell_type": "code",
   "execution_count": 6,
   "id": "461b6350",
   "metadata": {},
   "outputs": [
    {
     "name": "stdout",
     "output_type": "stream",
     "text": [
      "54321\n",
      "-4321\n",
      "--321\n",
      "---21\n",
      "----1\n"
     ]
    }
   ],
   "source": [
    "space=0\n",
    "for sv in range(5,0,-1):\n",
    "    print('-'*space,end='')\n",
    "    for num in range(sv,0,-1):\n",
    "        print(num,end='')\n",
    "    print()\n",
    "    space+=1"
   ]
  },
  {
   "cell_type": "code",
   "execution_count": 7,
   "id": "9f8057c1",
   "metadata": {},
   "outputs": [
    {
     "name": "stdout",
     "output_type": "stream",
     "text": [
      "5\n",
      "45\n",
      "345\n",
      "2345\n",
      "12345\n"
     ]
    }
   ],
   "source": [
    "for sv in range(5,0,-1):\n",
    "    for num in range(sv,6):\n",
    "        print(num,end='')\n",
    "    print()"
   ]
  },
  {
   "cell_type": "code",
   "execution_count": null,
   "id": "1ee09d10",
   "metadata": {},
   "outputs": [],
   "source": []
  },
  {
   "cell_type": "code",
   "execution_count": null,
   "id": "d5697a4d",
   "metadata": {},
   "outputs": [],
   "source": []
  },
  {
   "cell_type": "code",
   "execution_count": null,
   "id": "caef17e6",
   "metadata": {},
   "outputs": [],
   "source": []
  },
  {
   "cell_type": "code",
   "execution_count": null,
   "id": "9fe6ef19",
   "metadata": {},
   "outputs": [],
   "source": []
  },
  {
   "cell_type": "code",
   "execution_count": null,
   "id": "211ea8e6",
   "metadata": {},
   "outputs": [],
   "source": []
  },
  {
   "cell_type": "code",
   "execution_count": null,
   "id": "84da35d0",
   "metadata": {},
   "outputs": [],
   "source": []
  },
  {
   "cell_type": "code",
   "execution_count": null,
   "id": "244111c0",
   "metadata": {},
   "outputs": [],
   "source": []
  },
  {
   "cell_type": "code",
   "execution_count": null,
   "id": "125dac0b",
   "metadata": {},
   "outputs": [],
   "source": []
  },
  {
   "cell_type": "code",
   "execution_count": null,
   "id": "8fe6fdc7",
   "metadata": {},
   "outputs": [],
   "source": []
  },
  {
   "cell_type": "code",
   "execution_count": null,
   "id": "8cf3f176",
   "metadata": {},
   "outputs": [],
   "source": []
  },
  {
   "cell_type": "code",
   "execution_count": null,
   "id": "f6f3f1a9",
   "metadata": {},
   "outputs": [],
   "source": []
  },
  {
   "cell_type": "code",
   "execution_count": null,
   "id": "b696ee45",
   "metadata": {},
   "outputs": [],
   "source": []
  },
  {
   "cell_type": "code",
   "execution_count": null,
   "id": "c853017c",
   "metadata": {},
   "outputs": [],
   "source": []
  },
  {
   "cell_type": "code",
   "execution_count": null,
   "id": "05c1ba65",
   "metadata": {},
   "outputs": [],
   "source": []
  },
  {
   "cell_type": "code",
   "execution_count": null,
   "id": "ea60f9fd",
   "metadata": {},
   "outputs": [],
   "source": []
  },
  {
   "cell_type": "code",
   "execution_count": 8,
   "id": "fcd43ccc",
   "metadata": {},
   "outputs": [
    {
     "name": "stdout",
     "output_type": "stream",
     "text": [
      "pronic\n"
     ]
    }
   ],
   "source": [
    "num=20\n",
    "n=0\n",
    "while(n*(n+1)<=num):\n",
    "    if(n*(n+1)==num):\n",
    "        print('pronic')\n",
    "        break\n",
    "    n+=1\n",
    "else:\n",
    "    print('not pronic')"
   ]
  },
  {
   "cell_type": "code",
   "execution_count": 1,
   "id": "b56db6ab",
   "metadata": {},
   "outputs": [
    {
     "name": "stdout",
     "output_type": "stream",
     "text": [
      "triomorphic\n"
     ]
    }
   ],
   "source": [
    "num=6\n",
    "p=len(str(num))\n",
    "cube=num**3\n",
    "sq=10**p\n",
    "if (num==cube%sq):\n",
    "    print('triomorphic')\n",
    "else:\n",
    "    print('not triomorphic')"
   ]
  },
  {
   "cell_type": "code",
   "execution_count": 2,
   "id": "644134d4",
   "metadata": {},
   "outputs": [
    {
     "name": "stdout",
     "output_type": "stream",
     "text": [
      "2\n",
      "3\n"
     ]
    }
   ],
   "source": [
    "def prime(num,count=0):\n",
    "    for fa in range(1,num+1):\n",
    "        if num%fa==0:\n",
    "            count+=1\n",
    "    return count==2\n",
    "num=12\n",
    "fact=1\n",
    "for fa in range(1,num+1):\n",
    "    if num%fa==0 and prime(fa):\n",
    "        print(fa)"
   ]
  },
  {
   "cell_type": "code",
   "execution_count": 3,
   "id": "399a1744",
   "metadata": {},
   "outputs": [
    {
     "name": "stdout",
     "output_type": "stream",
     "text": [
      "\n"
     ]
    }
   ],
   "source": [
    "def prime(num,count=0):\n",
    "    for fa in range(1,num+1):\n",
    "        if num%fa==0:\n",
    "            count+=1\n",
    "    return count==2\n",
    "num=20\n",
    "num+=1\n",
    "while(not prime(num)):\n",
    "    num+=1\n",
    "print()"
   ]
  },
  {
   "cell_type": "code",
   "execution_count": 6,
   "id": "950b6efa",
   "metadata": {},
   "outputs": [
    {
     "name": "stdout",
     "output_type": "stream",
     "text": [
      "e=3\n",
      "n=3\n",
      "g=2\n",
      "i=2\n",
      "r=1\n"
     ]
    }
   ],
   "source": [
    "s='engineering'\n",
    "while s!='':\n",
    "    print(f'{s[0]}={s.count(s[0])}')\n",
    "    s=s.replace(s[0],'')"
   ]
  },
  {
   "cell_type": "code",
   "execution_count": 8,
   "id": "4b8fa56a",
   "metadata": {},
   "outputs": [
    {
     "name": "stdout",
     "output_type": "stream",
     "text": [
      "e\n",
      "n\n",
      "g\n",
      "i\n",
      "n\n",
      "e\n",
      "e\n",
      "i\n",
      "n\n",
      "g\n"
     ]
    }
   ],
   "source": [
    "s='engineering'\n",
    "newstr=''\n",
    "for ch in s:\n",
    "    if(s.count(ch)>1):\n",
    "        print(ch)"
   ]
  },
  {
   "cell_type": "code",
   "execution_count": 9,
   "id": "88749caf",
   "metadata": {},
   "outputs": [
    {
     "name": "stdout",
     "output_type": "stream",
     "text": [
      "r\n"
     ]
    }
   ],
   "source": [
    "s='engineering'\n",
    "for ch in s:\n",
    "    if(s.count(ch)==1):\n",
    "        print(ch)"
   ]
  },
  {
   "cell_type": "code",
   "execution_count": 10,
   "id": "ebe94857",
   "metadata": {},
   "outputs": [
    {
     "name": "stdout",
     "output_type": "stream",
     "text": [
      "nohtyp\n"
     ]
    }
   ],
   "source": [
    "s='python'\n",
    "rev=''\n",
    "for ind in range(-1,-7,-1):\n",
    "    rev+=s[ind]\n",
    "print(rev)"
   ]
  },
  {
   "cell_type": "code",
   "execution_count": 14,
   "id": "8f1f965c",
   "metadata": {},
   "outputs": [
    {
     "name": "stdout",
     "output_type": "stream",
     "text": [
      "nohtyp\n"
     ]
    }
   ],
   "source": [
    "s='python'\n",
    "rev=''\n",
    "for ind in range(-1,-len(s)-1,-1):\n",
    "    rev+=s[ind]\n",
    "print(rev)"
   ]
  },
  {
   "cell_type": "code",
   "execution_count": 13,
   "id": "2771f4c4",
   "metadata": {},
   "outputs": [
    {
     "name": "stdout",
     "output_type": "stream",
     "text": [
      "palindrom\n"
     ]
    }
   ],
   "source": [
    "s='madam'\n",
    "if s==s[::-1]:\n",
    "    print('palindrom')\n",
    "else:\n",
    "    print('not palindrom')"
   ]
  },
  {
   "cell_type": "code",
   "execution_count": 15,
   "id": "92c49708",
   "metadata": {},
   "outputs": [
    {
     "name": "stdout",
     "output_type": "stream",
     "text": [
      "not a palindrom\n"
     ]
    }
   ],
   "source": [
    "s='python'\n",
    "rev=''\n",
    "for ind in range(-1,-len(s)-1,-1):\n",
    "    rev+=s[ind]\n",
    "if rev==s:\n",
    "    print('palindrom')\n",
    "else:\n",
    "    print('not a palindrom')"
   ]
  },
  {
   "cell_type": "code",
   "execution_count": 16,
   "id": "df936bc7",
   "metadata": {},
   "outputs": [
    {
     "name": "stdout",
     "output_type": "stream",
     "text": [
      "palindrom\n"
     ]
    }
   ],
   "source": [
    "s='malayalam'\n",
    "li=-1\n",
    "for fi in range(len(s)//2):\n",
    "    if s[fi]==s[li]:\n",
    "        li-=1\n",
    "    else:\n",
    "        print('not palindrom')\n",
    "        break\n",
    "else:\n",
    "    print('palindrom')"
   ]
  },
  {
   "cell_type": "code",
   "execution_count": 18,
   "id": "b9ea554a",
   "metadata": {},
   "outputs": [
    {
     "name": "stdout",
     "output_type": "stream",
     "text": [
      "[12, 23, 34]\n"
     ]
    }
   ],
   "source": [
    "L=[12,12,23,23,34,34]\n",
    "newL=[]\n",
    "for num in L:\n",
    "    if num not in newL:\n",
    "        newL.append(num)\n",
    "print(newL)"
   ]
  },
  {
   "cell_type": "code",
   "execution_count": 19,
   "id": "cb349865",
   "metadata": {},
   "outputs": [
    {
     "name": "stdout",
     "output_type": "stream",
     "text": [
      "[17, 15, 18, 16, 12, 14]\n"
     ]
    }
   ],
   "source": [
    "L=[14,15,18,16,12,17]\n",
    "L[0],L[-1]=L[-1],L[0]\n",
    "print(L)"
   ]
  },
  {
   "cell_type": "code",
   "execution_count": 20,
   "id": "7f0eeac5",
   "metadata": {},
   "outputs": [
    {
     "name": "stdout",
     "output_type": "stream",
     "text": [
      "[17, 12, 18, 16, 15, 14]\n"
     ]
    }
   ],
   "source": [
    "L=[14,15,18,16,12,17]\n",
    "for fi in range(len(s)//2):\n",
    "    L[fi],L[-fi-1]=L[-fi-1],L[fi]\n",
    "print(L)"
   ]
  },
  {
   "cell_type": "code",
   "execution_count": 22,
   "id": "0a9faed3",
   "metadata": {},
   "outputs": [
    {
     "name": "stdout",
     "output_type": "stream",
     "text": [
      "abc\n"
     ]
    }
   ],
   "source": [
    "s='abcdef'\n",
    "hf=''\n",
    "for ch in range(len(s)//2):\n",
    "    hf+=s[ch]\n",
    "print(hf)"
   ]
  },
  {
   "cell_type": "code",
   "execution_count": 24,
   "id": "91708174",
   "metadata": {},
   "outputs": [
    {
     "name": "stdout",
     "output_type": "stream",
     "text": [
      "def\n"
     ]
    }
   ],
   "source": [
    "s='abcdef'\n",
    "lf=''\n",
    "for ch in range(-len(s)//2,0):\n",
    "    lf+=s[ch]\n",
    "print(lf)"
   ]
  },
  {
   "cell_type": "code",
   "execution_count": 1,
   "id": "241572da",
   "metadata": {},
   "outputs": [
    {
     "ename": "NameError",
     "evalue": "name 'n' is not defined",
     "output_type": "error",
     "traceback": [
      "\u001b[1;31m---------------------------------------------------------------------------\u001b[0m",
      "\u001b[1;31mNameError\u001b[0m                                 Traceback (most recent call last)",
      "\u001b[1;32m~\\AppData\\Local\\Temp\\ipykernel_26348\\3201787424.py\u001b[0m in \u001b[0;36m<module>\u001b[1;34m\u001b[0m\n\u001b[0;32m      3\u001b[0m \u001b[1;32mfor\u001b[0m \u001b[0msi\u001b[0m \u001b[1;32min\u001b[0m \u001b[0mrange\u001b[0m\u001b[1;33m(\u001b[0m\u001b[0mlen\u001b[0m\u001b[1;33m(\u001b[0m\u001b[0ms\u001b[0m\u001b[1;33m)\u001b[0m\u001b[1;33m//\u001b[0m\u001b[1;36m2\u001b[0m\u001b[1;33m)\u001b[0m\u001b[1;33m:\u001b[0m\u001b[1;33m\u001b[0m\u001b[1;33m\u001b[0m\u001b[0m\n\u001b[0;32m      4\u001b[0m     \u001b[0mnewstr\u001b[0m\u001b[1;33m+=\u001b[0m\u001b[0ms\u001b[0m\u001b[1;33m[\u001b[0m\u001b[0msi\u001b[0m\u001b[1;33m]\u001b[0m\u001b[1;33m+\u001b[0m\u001b[0ms\u001b[0m\u001b[1;33m[\u001b[0m\u001b[0msi\u001b[0m\u001b[1;33m+\u001b[0m\u001b[0mlen\u001b[0m\u001b[1;33m(\u001b[0m\u001b[0ms\u001b[0m\u001b[1;33m)\u001b[0m\u001b[1;33m//\u001b[0m\u001b[1;36m2\u001b[0m\u001b[1;33m]\u001b[0m\u001b[1;33m\u001b[0m\u001b[1;33m\u001b[0m\u001b[0m\n\u001b[1;32m----> 5\u001b[1;33m \u001b[0mprint\u001b[0m\u001b[1;33m(\u001b[0m\u001b[0mn\u001b[0m\u001b[1;33m)\u001b[0m\u001b[1;33m\u001b[0m\u001b[1;33m\u001b[0m\u001b[0m\n\u001b[0m",
      "\u001b[1;31mNameError\u001b[0m: name 'n' is not defined"
     ]
    }
   ],
   "source": [
    "s='abcxyz'\n",
    "newstr=''\n",
    "for si in range(len(s)//2):\n",
    "    newstr+=s[si]+s[si+len(s)//2]\n",
    "print(n)"
   ]
  },
  {
   "cell_type": "code",
   "execution_count": 9,
   "id": "3fd61a13",
   "metadata": {},
   "outputs": [
    {
     "name": "stdout",
     "output_type": "stream",
     "text": [
      "perfect\n"
     ]
    }
   ],
   "source": [
    "num=6\n",
    "L=[fa for fa in range(1,num) if num%fa==0]\n",
    "if sum(L)==num:\n",
    "    print(\"perfect\")\n",
    "else:\n",
    "    print('not perfect')"
   ]
  },
  {
   "cell_type": "code",
   "execution_count": 2,
   "id": "1e876267",
   "metadata": {},
   "outputs": [
    {
     "data": {
      "text/plain": [
       "True"
      ]
     },
     "execution_count": 2,
     "metadata": {},
     "output_type": "execute_result"
    }
   ],
   "source": [
    "def perfect(num):\n",
    "    L=[fa for fa in range(1,num) if num%fa==0]\n",
    "    return sum(L)==num\n",
    "perfect(6)"
   ]
  },
  {
   "cell_type": "code",
   "execution_count": 13,
   "id": "c518d603",
   "metadata": {},
   "outputs": [
    {
     "data": {
      "text/plain": [
       "True"
      ]
     },
     "execution_count": 13,
     "metadata": {},
     "output_type": "execute_result"
    }
   ],
   "source": [
    "def prime(num):\n",
    "    return len([num for fa in range(1,num+1) if num%fa==0])==2\n",
    "prime(11)"
   ]
  },
  {
   "cell_type": "code",
   "execution_count": 14,
   "id": "d778dcd7",
   "metadata": {},
   "outputs": [
    {
     "data": {
      "text/plain": [
       "True"
      ]
     },
     "execution_count": 14,
     "metadata": {},
     "output_type": "execute_result"
    }
   ],
   "source": [
    "def composite(num):\n",
    "    return len([num for fa in range(1,num+1) if num%fa==0])>2\n",
    "composite(12)"
   ]
  },
  {
   "cell_type": "code",
   "execution_count": 9,
   "id": "656ee33d",
   "metadata": {},
   "outputs": [
    {
     "data": {
      "text/plain": [
       "True"
      ]
     },
     "execution_count": 9,
     "metadata": {},
     "output_type": "execute_result"
    }
   ],
   "source": [
    "def pronic(num,n=1):\n",
    "    while (n*(n+1)<=num):\n",
    "        if n*(n+1)==num:\n",
    "            return True\n",
    "        n+=1\n",
    "    return False\n",
    "pronic(20)"
   ]
  },
  {
   "cell_type": "code",
   "execution_count": 6,
   "id": "5818c185",
   "metadata": {},
   "outputs": [
    {
     "data": {
      "text/plain": [
       "True"
      ]
     },
     "execution_count": 6,
     "metadata": {},
     "output_type": "execute_result"
    }
   ],
   "source": [
    "def sunny(num,n=1):\n",
    "    while(n**2<=(num+1)):\n",
    "        if (n**2==(num+1)):\n",
    "            return True \n",
    "        n+=1\n",
    "    return False\n",
    "sunny(8)"
   ]
  },
  {
   "cell_type": "code",
   "execution_count": 14,
   "id": "5ebdce78",
   "metadata": {},
   "outputs": [
    {
     "data": {
      "text/plain": [
       "True"
      ]
     },
     "execution_count": 14,
     "metadata": {},
     "output_type": "execute_result"
    }
   ],
   "source": [
    "def niven(num,copy,Sum=0):\n",
    "    while(num!=0):\n",
    "        rem=num%10\n",
    "        Sum+=rem\n",
    "        num//=10\n",
    "    return copy%Sum==0\n",
    "niven(12,12)"
   ]
  },
  {
   "cell_type": "code",
   "execution_count": 25,
   "id": "95084770",
   "metadata": {},
   "outputs": [
    {
     "data": {
      "text/plain": [
       "True"
      ]
     },
     "execution_count": 25,
     "metadata": {},
     "output_type": "execute_result"
    }
   ],
   "source": [
    "def palindrom(num,copy,rev=0):\n",
    "    while(num!=0):\n",
    "        rem=num%10\n",
    "        rev=rev*10+rem\n",
    "        num//=10\n",
    "    return copy==rev\n"
   ]
  },
  {
   "cell_type": "code",
   "execution_count": 24,
   "id": "5f359e46",
   "metadata": {},
   "outputs": [
    {
     "name": "stdout",
     "output_type": "stream",
     "text": [
      "True\n"
     ]
    }
   ],
   "source": [
    "def is_palindrome(num, copy, rev=0):\n",
    "    while num != 0:\n",
    "        rem = num % 10\n",
    "        rev = rev * 10 + rem\n",
    "        num //= 10\n",
    "    return copy == rev\n",
    "\n",
    "result = is_palindrome(121, 121)\n",
    "print(result)\n"
   ]
  },
  {
   "cell_type": "code",
   "execution_count": 29,
   "id": "4e260f4d",
   "metadata": {},
   "outputs": [
    {
     "data": {
      "text/plain": [
       "True"
      ]
     },
     "execution_count": 29,
     "metadata": {},
     "output_type": "execute_result"
    }
   ],
   "source": [
    "def prime(num,count=0):\n",
    "    for fa in range(1,num+1):\n",
    "        if(num%fa==0):\n",
    "            count+=1\n",
    "    return count==2\n",
    "def reverse(num,rev=0):\n",
    "    while (num!=0):\n",
    "        rem=num%10\n",
    "        rev=rev*10+rem\n",
    "        num//=10\n",
    "    return rev\n",
    "def emirp(num):\n",
    "    return num!=reverse(num)and prime(num)and prime(reverse(num))\n",
    "emirp(17)"
   ]
  },
  {
   "cell_type": "code",
   "execution_count": 34,
   "id": "4f097c6d",
   "metadata": {},
   "outputs": [
    {
     "data": {
      "text/plain": [
       "True"
      ]
     },
     "execution_count": 34,
     "metadata": {},
     "output_type": "execute_result"
    }
   ],
   "source": [
    "def spy(num,p=1,Sum=0):\n",
    "    while (num!=0):\n",
    "        rem = num%10\n",
    "        Sum+= rem\n",
    "        p*=rem\n",
    "        num//=10\n",
    "    return Sum==p"
   ]
  },
  {
   "cell_type": "code",
   "execution_count": 51,
   "id": "162226ca",
   "metadata": {},
   "outputs": [
    {
     "data": {
      "text/plain": [
       "True"
      ]
     },
     "execution_count": 51,
     "metadata": {},
     "output_type": "execute_result"
    }
   ],
   "source": [
    "def armstrong(num):\n",
    "    copy = num \n",
    "    p = len(str(num)) \n",
    "    res = 0  \n",
    "    while num != 0:\n",
    "        rem = num % 10\n",
    "        res += rem ** p\n",
    "        num //= 10\n",
    "\n",
    "    return copy == res\n",
    "armstrong(153)"
   ]
  },
  {
   "cell_type": "markdown",
   "id": "9078303c",
   "metadata": {},
   "source": [
    "### "
   ]
  },
  {
   "cell_type": "code",
   "execution_count": 3,
   "id": "41267039",
   "metadata": {},
   "outputs": [
    {
     "data": {
      "text/plain": [
       "True"
      ]
     },
     "execution_count": 3,
     "metadata": {},
     "output_type": "execute_result"
    }
   ],
   "source": [
    "def disarium(num):\n",
    "    copy = num \n",
    "    p = len(str(num)) \n",
    "    res = 0  \n",
    "    while num != 0:\n",
    "        rem = num % 10\n",
    "        res += rem ** p\n",
    "        num //= 10\n",
    "        p-=1\n",
    "\n",
    "    return copy == res\n",
    "disarium(135)"
   ]
  },
  {
   "cell_type": "code",
   "execution_count": 5,
   "id": "c2f55ef9",
   "metadata": {},
   "outputs": [
    {
     "data": {
      "text/plain": [
       "True"
      ]
     },
     "execution_count": 5,
     "metadata": {},
     "output_type": "execute_result"
    }
   ],
   "source": [
    "def factorial(num,fa=1):\n",
    "    for x in range(1,num+1):\n",
    "        fa*=x\n",
    "    return fa\n",
    "def strong(num,copy,Sum=0):\n",
    "    while (num!=0):\n",
    "        rem= num%10\n",
    "        Sum+= factorial(rem)\n",
    "        num//=10\n",
    "    return Sum==copy\n",
    "strong(145,145)"
   ]
  },
  {
   "cell_type": "code",
   "execution_count": 7,
   "id": "40d6fa7d",
   "metadata": {},
   "outputs": [
    {
     "data": {
      "text/plain": [
       "True"
      ]
     },
     "execution_count": 7,
     "metadata": {},
     "output_type": "execute_result"
    }
   ],
   "source": [
    "def neon(num):\n",
    "    sq = num ** 2\n",
    "    res = 0\n",
    "    while sq != 0:\n",
    "        rem = sq % 10\n",
    "        res += rem\n",
    "        sq //= 10\n",
    "    return num == res\n",
    "neon(9)"
   ]
  },
  {
   "cell_type": "code",
   "execution_count": 13,
   "id": "e4c71ace",
   "metadata": {},
   "outputs": [
    {
     "data": {
      "text/plain": [
       "True"
      ]
     },
     "execution_count": 13,
     "metadata": {},
     "output_type": "execute_result"
    }
   ],
   "source": [
    "def sum_square(num,res=0):\n",
    "    while num!=0:\n",
    "        rem=num%10\n",
    "        res+=rem**2\n",
    "        num//=10\n",
    "    return res\n",
    "def happy(num):\n",
    "    if (num>9):\n",
    "        num=sum_square(num)\n",
    "    return num==1\n",
    "happy(100)"
   ]
  },
  {
   "cell_type": "code",
   "execution_count": 2,
   "id": "0cb889ef",
   "metadata": {},
   "outputs": [],
   "source": [
    "def automorphic(num):\n",
    "    return (num==(num**2)%(10**(len(str(num)))))"
   ]
  },
  {
   "cell_type": "code",
   "execution_count": 71,
   "id": "dd58a02c",
   "metadata": {},
   "outputs": [
    {
     "data": {
      "text/plain": [
       "True"
      ]
     },
     "execution_count": 71,
     "metadata": {},
     "output_type": "execute_result"
    }
   ],
   "source": [
    "def triomorphic(num):\n",
    "    return (num==(num**3)%(10**(len(str(num)))))"
   ]
  },
  {
   "cell_type": "code",
   "execution_count": 72,
   "id": "ef4e07d4",
   "metadata": {},
   "outputs": [
    {
     "data": {
      "text/plain": [
       "True"
      ]
     },
     "execution_count": 72,
     "metadata": {},
     "output_type": "execute_result"
    }
   ],
   "source": [
    "def palindrom(num,copy,rev=0):\n",
    "    while(num!=0):\n",
    "        rem = num%10\n",
    "        rev= rev*10+rem\n",
    "        num//=10\n",
    "    return copy==rev\n",
    "def prime(copy,count=0):\n",
    "    for fa in range(1,copy+1):\n",
    "        if copy%fa==0:\n",
    "            count+=1\n",
    "    return count==2"
   ]
  },
  {
   "cell_type": "code",
   "execution_count": 73,
   "id": "fca14885",
   "metadata": {},
   "outputs": [
    {
     "data": {
      "text/plain": [
       "True"
      ]
     },
     "execution_count": 73,
     "metadata": {},
     "output_type": "execute_result"
    }
   ],
   "source": [
    "def evil(num,res=0):\n",
    "    while (num!=0):\n",
    "        rem =num%2\n",
    "        res+=rem\n",
    "        num//=2\n",
    "    return res%2==0\n",
    "evil(27)"
   ]
  },
  {
   "cell_type": "code",
   "execution_count": 1,
   "id": "5a86b94d",
   "metadata": {},
   "outputs": [
    {
     "name": "stdout",
     "output_type": "stream",
     "text": [
      "10100\n"
     ]
    }
   ],
   "source": [
    "def Binary(num,Bin=''):\n",
    "    while(num!=0):\n",
    "        rem=num%2\n",
    "        Bin= str(rem)+Bin\n",
    "        num//=2\n",
    "    return Bin\n",
    "print(Binary(20))"
   ]
  },
  {
   "cell_type": "code",
   "execution_count": 3,
   "id": "7c34618e",
   "metadata": {},
   "outputs": [
    {
     "name": "stdout",
     "output_type": "stream",
     "text": [
      "20\n"
     ]
    }
   ],
   "source": [
    "def decimal(Bin,dec=0,p=0):\n",
    "    while(Bin!=0):\n",
    "        rem=Bin%10\n",
    "        dec+=rem*(2**p)\n",
    "        Bin//=10\n",
    "        p+=1\n",
    "    return dec\n",
    "print(decimal(10100))"
   ]
  },
  {
   "cell_type": "code",
   "execution_count": 2,
   "id": "fe8edf44",
   "metadata": {},
   "outputs": [
    {
     "name": "stdout",
     "output_type": "stream",
     "text": [
      "True\n"
     ]
    }
   ],
   "source": [
    "def perfect(num,add=0):\n",
    "    for fa in range(1,num//2+1):\n",
    "        if num % fa==0:\n",
    "            add+=fa\n",
    "    return add==num\n",
    "print(perfect(6))"
   ]
  },
  {
   "cell_type": "code",
   "execution_count": null,
   "id": "7d59f0d5",
   "metadata": {},
   "outputs": [],
   "source": []
  }
 ],
 "metadata": {
  "kernelspec": {
   "display_name": "Python 3 (ipykernel)",
   "language": "python",
   "name": "python3"
  },
  "language_info": {
   "codemirror_mode": {
    "name": "ipython",
    "version": 3
   },
   "file_extension": ".py",
   "mimetype": "text/x-python",
   "name": "python",
   "nbconvert_exporter": "python",
   "pygments_lexer": "ipython3",
   "version": "3.9.13"
  }
 },
 "nbformat": 4,
 "nbformat_minor": 5
}
