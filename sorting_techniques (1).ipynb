{
 "cells": [
  {
   "cell_type": "markdown",
   "id": "411ef1cf",
   "metadata": {},
   "source": [
    "# Bubble short"
   ]
  },
  {
   "cell_type": "code",
   "execution_count": 2,
   "id": "af67a018",
   "metadata": {},
   "outputs": [
    {
     "name": "stdout",
     "output_type": "stream",
     "text": [
      "[1, 5, 7, 14, 15]\n"
     ]
    }
   ],
   "source": [
    "L=[15,14,7,5,1]\n",
    "n=len(L)\n",
    "for ev in range(n-1,0,-1):\n",
    "    for ind in range(ev):\n",
    "        if L[ind]>L[ind+1]:\n",
    "            L[ind],L[ind+1]=L[ind+1],L[ind]\n",
    "print(L)"
   ]
  },
  {
   "cell_type": "markdown",
   "id": "7b97c2a7",
   "metadata": {},
   "source": [
    "# selection short"
   ]
  },
  {
   "cell_type": "code",
   "execution_count": 1,
   "id": "fa5d34ee",
   "metadata": {},
   "outputs": [
    {
     "name": "stdout",
     "output_type": "stream",
     "text": [
      "[2, 5, 7, 8, 9, 11, 12]\n"
     ]
    }
   ],
   "source": [
    "L=[11,8,7,12,9,2,5]\n",
    "n=len(L)\n",
    "for ti in range(n-1):\n",
    "    li=ti\n",
    "    for ind in range(ti+1,n):\n",
    "        if L[ind]<L[li]:\n",
    "            li=ind\n",
    "    L[ti],L[li]=L[li],L[ti]\n",
    "print(L)"
   ]
  },
  {
   "cell_type": "markdown",
   "id": "78deb67c",
   "metadata": {},
   "source": [
    "# inserction short"
   ]
  },
  {
   "cell_type": "code",
   "execution_count": 3,
   "id": "918cea5f",
   "metadata": {},
   "outputs": [
    {
     "name": "stdout",
     "output_type": "stream",
     "text": [
      "[2, 5, 7, 8, 9, 11, 12]\n"
     ]
    }
   ],
   "source": [
    "L=[11,8,7,12,9,2,5]\n",
    "n=len(L)\n",
    "for ti in range(1,n):\n",
    "    target,ind=L[ti],ti-1\n",
    "    while target<L[ind] and ind>=0:\n",
    "        L[ind+1]=L[ind]\n",
    "        ind-=1\n",
    "    L[ind+1]=target\n",
    "print(L)"
   ]
  },
  {
   "cell_type": "markdown",
   "id": "708da948",
   "metadata": {},
   "source": [
    "# merge short"
   ]
  },
  {
   "cell_type": "code",
   "execution_count": 4,
   "id": "4f2be761",
   "metadata": {},
   "outputs": [
    {
     "name": "stdout",
     "output_type": "stream",
     "text": [
      "[2, 5, 7, 8, 9, 11, 12]\n"
     ]
    }
   ],
   "source": [
    "def merge(L,left,right):\n",
    "    ind=li=ri=0\n",
    "    while ri<len(right) and li<len(left):\n",
    "        if right[ri]<left[li]:\n",
    "            L[ind]=right[ri]\n",
    "            ind+=1\n",
    "            ri+=1\n",
    "        else:\n",
    "            L[ind]=left[li]\n",
    "            ind+=1\n",
    "            li+=1\n",
    "    while li<len(left):\n",
    "        L[ind]=left[li]\n",
    "        ind+=1\n",
    "        li+=1\n",
    "    while ri<len(right):\n",
    "        L[ind]=right[ri]\n",
    "        ind+=1\n",
    "        ri+=1\n",
    "def divide(L):\n",
    "    if len(L)==1:\n",
    "        return\n",
    "    n=len(L)\n",
    "    left=L[:n//2]\n",
    "    right=L[n//2:]\n",
    "    divide(left)\n",
    "    divide(right)\n",
    "    merge(L,left,right)\n",
    "L=[11,8,7,12,9,2,5]\n",
    "divide(L)\n",
    "print(L)"
   ]
  },
  {
   "cell_type": "markdown",
   "id": "789f17f9",
   "metadata": {},
   "source": [
    "# quick short"
   ]
  },
  {
   "cell_type": "code",
   "execution_count": 23,
   "id": "23e38375",
   "metadata": {},
   "outputs": [
    {
     "name": "stdout",
     "output_type": "stream",
     "text": [
      "[1, 2, 5, 7, 8, 9, 11, 12]\n"
     ]
    }
   ],
   "source": [
    "def quickshort(L):\n",
    "    if len(L)<1:\n",
    "        return []\n",
    "    pivot=L[0]\n",
    "    left=[num for num in L[1:] if num<=pivot]\n",
    "    right=[num for num in L[1:] if num>pivot]\n",
    "    return quickshort(left)+[pivot]+quickshort(right)\n",
    "L=[11,8,7,12,9,2,1,5]\n",
    "print(quickshort(L))"
   ]
  },
  {
   "cell_type": "code",
   "execution_count": null,
   "id": "5477a5df",
   "metadata": {},
   "outputs": [],
   "source": []
  }
 ],
 "metadata": {
  "kernelspec": {
   "display_name": "Python 3 (ipykernel)",
   "language": "python",
   "name": "python3"
  },
  "language_info": {
   "codemirror_mode": {
    "name": "ipython",
    "version": 3
   },
   "file_extension": ".py",
   "mimetype": "text/x-python",
   "name": "python",
   "nbconvert_exporter": "python",
   "pygments_lexer": "ipython3",
   "version": "3.9.13"
  }
 },
 "nbformat": 4,
 "nbformat_minor": 5
}
