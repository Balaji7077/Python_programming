{
 "cells": [
  {
   "cell_type": "code",
   "execution_count": 2,
   "id": "bf61f1c5",
   "metadata": {},
   "outputs": [
    {
     "name": "stdout",
     "output_type": "stream",
     "text": [
      "4\n"
     ]
    }
   ],
   "source": [
    "#Linear_Search\n",
    "\n",
    "L=[8,6,3,2,0,4,6]\n",
    "input=0\n",
    "for ind in range(len(L)):\n",
    "    if L[ind]==input:\n",
    "        print(ind)\n",
    "        break\n",
    "else:\n",
    "    print(-1)"
   ]
  },
  {
   "cell_type": "code",
   "execution_count": 6,
   "id": "50a16d23",
   "metadata": {},
   "outputs": [
    {
     "name": "stdout",
     "output_type": "stream",
     "text": [
      "4\n"
     ]
    }
   ],
   "source": [
    "L=[4,1,8,5,2,8,10]\n",
    "user=2\n",
    "ind=0\n",
    "while ind<len(L):\n",
    "    if L[ind] == user:\n",
    "        print(ind)\n",
    "        break\n",
    "    ind+=1\n",
    "else:\n",
    "    print(-1)"
   ]
  },
  {
   "cell_type": "code",
   "execution_count": 15,
   "id": "b0614c2a",
   "metadata": {},
   "outputs": [
    {
     "name": "stdout",
     "output_type": "stream",
     "text": [
      "7\n"
     ]
    }
   ],
   "source": [
    "#Binary_Search\n",
    "# to implement binary search list should not have duplicate element inside the list it should be shorted.\n",
    "\n",
    "L=[-10,-2,0,3,6,10,14,15,20]\n",
    "user=15\n",
    "low,high=0,len(L)-1\n",
    "while low<high and L[low]<=user<=L[high]:\n",
    "    mid=(low+high)//2\n",
    "    if L[mid] <user:\n",
    "        low=mid+1\n",
    "    elif L[mid]>user:\n",
    "        high=mid-1\n",
    "    elif L[mid]==user:\n",
    "        print(mid)\n",
    "        break\n",
    "else:\n",
    "    print(-1)"
   ]
  },
  {
   "cell_type": "code",
   "execution_count": 16,
   "id": "318d38d4",
   "metadata": {},
   "outputs": [
    {
     "name": "stdout",
     "output_type": "stream",
     "text": [
      "0\n"
     ]
    }
   ],
   "source": [
    "#interpolation_search\n",
    "\n",
    "L=[2,33,45,55,78,90,120]\n",
    "\n",
    "user=2\n",
    "low,high=0,len(L)-1\n",
    "\n",
    "while L[low]<=user<=L[high]:\n",
    "    pos=int(low+ (low-high)*(user-L[low]) / (L[low]-L[high]))\n",
    "    \n",
    "    if L[pos]<user:\n",
    "        low=pos+1\n",
    "    elif L[pos]>user:\n",
    "        high=pos-1\n",
    "    elif L[pos]==user:\n",
    "        print(pos)\n",
    "        break\n",
    "else:\n",
    "    print(-1)"
   ]
  },
  {
   "cell_type": "code",
   "execution_count": null,
   "id": "6c464783",
   "metadata": {},
   "outputs": [],
   "source": []
  }
 ],
 "metadata": {
  "kernelspec": {
   "display_name": "Python 3 (ipykernel)",
   "language": "python",
   "name": "python3"
  },
  "language_info": {
   "codemirror_mode": {
    "name": "ipython",
    "version": 3
   },
   "file_extension": ".py",
   "mimetype": "text/x-python",
   "name": "python",
   "nbconvert_exporter": "python",
   "pygments_lexer": "ipython3",
   "version": "3.9.13"
  }
 },
 "nbformat": 4,
 "nbformat_minor": 5
}
