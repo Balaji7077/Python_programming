{
 "cells": [
  {
   "cell_type": "code",
   "execution_count": 7,
   "id": "2eb35f65",
   "metadata": {},
   "outputs": [],
   "source": [
    "f=open('D:/filehandling/remock.txt','w') \n",
    "f.write('my name is balaji')\n",
    "f.close()"
   ]
  },
  {
   "cell_type": "code",
   "execution_count": 4,
   "id": "414c07a6",
   "metadata": {},
   "outputs": [],
   "source": [
    "f=open('D:/filehandling/remock.txt','w') \n",
    "f.writelines('jhdsgkgewsug')\n",
    "f.close()"
   ]
  },
  {
   "cell_type": "code",
   "execution_count": 1,
   "id": "973e9662",
   "metadata": {},
   "outputs": [
    {
     "name": "stdout",
     "output_type": "stream",
     "text": [
      "0\n",
      "tomarrow is mock\n",
      "16\n"
     ]
    }
   ],
   "source": [
    "with open('D:/filehandling/remock.txt') as f:\n",
    "    print(f.tell())\n",
    "    print(f.read())\n",
    "    print(f.tell())\n"
   ]
  },
  {
   "cell_type": "code",
   "execution_count": 14,
   "id": "1a51e996",
   "metadata": {},
   "outputs": [
    {
     "name": "stdout",
     "output_type": "stream",
     "text": [
      "0\n",
      "my name is balaji\n",
      "17\n"
     ]
    }
   ],
   "source": [
    "with open('D:/filehandling/remock.txt') as f:\n",
    "    print(f.tell())\n",
    "    print(f.readline())\n",
    "    print(f.tell())\n"
   ]
  },
  {
   "cell_type": "code",
   "execution_count": 15,
   "id": "d5917327",
   "metadata": {},
   "outputs": [
    {
     "name": "stdout",
     "output_type": "stream",
     "text": [
      "0\n",
      "['my name is balaji']\n",
      "17\n"
     ]
    }
   ],
   "source": [
    "with open('D:/filehandling/remock.txt') as f:\n",
    "    print(f.tell())\n",
    "    print(f.readlines())\n",
    "    print(f.tell())\n"
   ]
  },
  {
   "cell_type": "code",
   "execution_count": 23,
   "id": "f10331af",
   "metadata": {},
   "outputs": [
    {
     "name": "stdout",
     "output_type": "stream",
     "text": [
      "16\n"
     ]
    }
   ],
   "source": [
    "with open('D:/filehandling/remock.txt','w') as f:\n",
    "    print(f.write('tomarrow is mock'))"
   ]
  },
  {
   "cell_type": "code",
   "execution_count": 27,
   "id": "d198651e",
   "metadata": {},
   "outputs": [],
   "source": [
    "with open('remock2.txt','a') as f:\n",
    "    f.write('hi\\n')\n",
    "    L=['python\\n','java\\n','mern']\n",
    "    f.writelines(L)"
   ]
  },
  {
   "cell_type": "code",
   "execution_count": 29,
   "id": "32c38c6a",
   "metadata": {},
   "outputs": [
    {
     "ename": "FileExistsError",
     "evalue": "[Errno 17] File exists: 'file.txt'",
     "output_type": "error",
     "traceback": [
      "\u001b[1;31m---------------------------------------------------------------------------\u001b[0m",
      "\u001b[1;31mFileExistsError\u001b[0m                           Traceback (most recent call last)",
      "\u001b[1;32m~\\AppData\\Local\\Temp\\ipykernel_8336\\1609404002.py\u001b[0m in \u001b[0;36m<module>\u001b[1;34m\u001b[0m\n\u001b[1;32m----> 1\u001b[1;33m \u001b[0mf\u001b[0m\u001b[1;33m=\u001b[0m\u001b[0mopen\u001b[0m\u001b[1;33m(\u001b[0m\u001b[1;34m'file.txt'\u001b[0m\u001b[1;33m,\u001b[0m\u001b[1;34m'x'\u001b[0m\u001b[1;33m)\u001b[0m\u001b[1;33m\u001b[0m\u001b[1;33m\u001b[0m\u001b[0m\n\u001b[0m\u001b[0;32m      2\u001b[0m \u001b[0mprint\u001b[0m\u001b[1;33m(\u001b[0m\u001b[0mf\u001b[0m\u001b[1;33m.\u001b[0m\u001b[0mreadable\u001b[0m\u001b[1;33m(\u001b[0m\u001b[1;33m)\u001b[0m\u001b[1;33m)\u001b[0m\u001b[1;33m\u001b[0m\u001b[1;33m\u001b[0m\u001b[0m\n\u001b[0;32m      3\u001b[0m \u001b[0mprint\u001b[0m\u001b[1;33m(\u001b[0m\u001b[0mf\u001b[0m\u001b[1;33m.\u001b[0m\u001b[0mwritable\u001b[0m\u001b[1;33m(\u001b[0m\u001b[1;33m)\u001b[0m\u001b[1;33m)\u001b[0m\u001b[1;33m\u001b[0m\u001b[1;33m\u001b[0m\u001b[0m\n\u001b[0;32m      4\u001b[0m \u001b[0mf\u001b[0m\u001b[1;33m.\u001b[0m\u001b[0mclose\u001b[0m\u001b[1;33m(\u001b[0m\u001b[1;33m)\u001b[0m\u001b[1;33m\u001b[0m\u001b[1;33m\u001b[0m\u001b[0m\n",
      "\u001b[1;31mFileExistsError\u001b[0m: [Errno 17] File exists: 'file.txt'"
     ]
    }
   ],
   "source": [
    "f=open('file.txt','x')\n",
    "print(f.readable())\n",
    "print(f.writable())\n",
    "f.close()"
   ]
  },
  {
   "cell_type": "code",
   "execution_count": 36,
   "id": "aecb4df0",
   "metadata": {},
   "outputs": [
    {
     "name": "stdout",
     "output_type": "stream",
     "text": [
      "False\n",
      "True\n"
     ]
    }
   ],
   "source": [
    "f=open('file.txt','a')\n",
    "print(f.readable())\n",
    "print(f.writable())"
   ]
  },
  {
   "cell_type": "code",
   "execution_count": 42,
   "id": "7ebebae1",
   "metadata": {},
   "outputs": [],
   "source": [
    "with open('file.txt','r') as f:\n",
    "    content=f.readlines()\n",
    "with open('new.txt','w') as f2:\n",
    "    f2.writelines(content)"
   ]
  },
  {
   "cell_type": "code",
   "execution_count": 49,
   "id": "10f5d378",
   "metadata": {},
   "outputs": [
    {
     "name": "stdout",
     "output_type": "stream",
     "text": [
      "import job\n",
      "\n",
      "job hjbvbs\n",
      "\n"
     ]
    }
   ],
   "source": [
    "word='job'\n",
    "with open('file.txt','r') as f1:\n",
    "    L= f1.readlines()\n",
    "    for line in L:\n",
    "        if word in line:\n",
    "            print(line)"
   ]
  },
  {
   "cell_type": "code",
   "execution_count": 54,
   "id": "951b8f57",
   "metadata": {},
   "outputs": [
    {
     "name": "stdout",
     "output_type": "stream",
     "text": [
      "1\n"
     ]
    }
   ],
   "source": [
    "with open ('D:/filehandling/remock.txt','r') as f:\n",
    "    count=0\n",
    "    for _ in f:\n",
    "        count+=1\n",
    "        print(count)"
   ]
  },
  {
   "cell_type": "code",
   "execution_count": 57,
   "id": "cf2baaf6",
   "metadata": {},
   "outputs": [
    {
     "name": "stdout",
     "output_type": "stream",
     "text": [
      "tomarrow is mock hi\n",
      "\n"
     ]
    }
   ],
   "source": [
    "with open('D:/filehandling/remock.txt') as f,open('remock2.txt') as g:\n",
    "    for v1,v2 in zip(f,g):\n",
    "        print(v1,v2)"
   ]
  }
 ],
 "metadata": {
  "kernelspec": {
   "display_name": "Python 3 (ipykernel)",
   "language": "python",
   "name": "python3"
  },
  "language_info": {
   "codemirror_mode": {
    "name": "ipython",
    "version": 3
   },
   "file_extension": ".py",
   "mimetype": "text/x-python",
   "name": "python",
   "nbconvert_exporter": "python",
   "pygments_lexer": "ipython3",
   "version": "3.9.13"
  }
 },
 "nbformat": 4,
 "nbformat_minor": 5
}
