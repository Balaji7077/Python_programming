{
 "cells": [
  {
   "cell_type": "code",
   "execution_count": 1,
   "id": "5edebf16",
   "metadata": {},
   "outputs": [
    {
     "name": "stdout",
     "output_type": "stream",
     "text": [
      "***\n",
      "***\n",
      "***\n",
      "***\n",
      "***\n"
     ]
    }
   ],
   "source": [
    "m=list(map(lambda star:'*'*3,range(5)))\n",
    "print('\\n'.join(m))"
   ]
  },
  {
   "cell_type": "code",
   "execution_count": 4,
   "id": "e49fefca",
   "metadata": {},
   "outputs": [
    {
     "name": "stdout",
     "output_type": "stream",
     "text": [
      "***\n",
      "***\n",
      "***\n",
      "***\n",
      "***\n"
     ]
    }
   ],
   "source": [
    "print('\\n'.join(list(map(lambda star:'*'*3,range(5)))))"
   ]
  },
  {
   "cell_type": "code",
   "execution_count": 5,
   "id": "1f9e9ded",
   "metadata": {},
   "outputs": [
    {
     "name": "stdout",
     "output_type": "stream",
     "text": [
      "*****\n",
      "****\n",
      "***\n",
      "**\n",
      "*\n"
     ]
    }
   ],
   "source": [
    "print('\\n'.join(list(map(lambda star:'*'*star,range(5,0,-1)))))"
   ]
  },
  {
   "cell_type": "code",
   "execution_count": 6,
   "id": "897ed278",
   "metadata": {},
   "outputs": [
    {
     "name": "stdout",
     "output_type": "stream",
     "text": [
      "*\n",
      "**\n",
      "***\n",
      "****\n",
      "*****\n"
     ]
    }
   ],
   "source": [
    "print('\\n'.join(list(map(lambda star:'*'*star,range(1,6)))))"
   ]
  },
  {
   "cell_type": "code",
   "execution_count": 13,
   "id": "1f6ab7af",
   "metadata": {},
   "outputs": [
    {
     "name": "stdout",
     "output_type": "stream",
     "text": [
      "----*\n",
      "---**\n",
      "--***\n",
      "-****\n",
      "*****\n"
     ]
    }
   ],
   "source": [
    "print('\\n'.join(list(map(lambda space,star:'-'*space + '*'*star,range(4,-1,-1),range(1,6)))))"
   ]
  },
  {
   "cell_type": "code",
   "execution_count": 23,
   "id": "0a2b13aa",
   "metadata": {},
   "outputs": [
    {
     "name": "stdout",
     "output_type": "stream",
     "text": [
      "****\n",
      "-***\n",
      "--**\n",
      "---*\n"
     ]
    }
   ],
   "source": [
    "print('\\n'.join(list(map(lambda space , star :'-'*space +'*' * star,range(0,4),range(4,0,-1)))))"
   ]
  },
  {
   "cell_type": "code",
   "execution_count": 25,
   "id": "a3740601",
   "metadata": {},
   "outputs": [
    {
     "name": "stdout",
     "output_type": "stream",
     "text": [
      "    *\n",
      "   ***\n",
      "  *****\n",
      " *******\n",
      "*********\n"
     ]
    }
   ],
   "source": [
    "print('\\n'.join(list(map(lambda space , star : ' '*space + '*' * star, range(4,-1,-1), range(1,10,2)))))"
   ]
  },
  {
   "cell_type": "code",
   "execution_count": 27,
   "id": "fe48639d",
   "metadata": {
    "scrolled": true
   },
   "outputs": [
    {
     "name": "stdout",
     "output_type": "stream",
     "text": [
      "*******\n",
      " *****\n",
      "  ***\n",
      "   *\n"
     ]
    }
   ],
   "source": [
    "print('\\n'.join(list(map(lambda space , star: ' ' * space +  '*' * star, range(0,4), range(7,-1,-2)))))"
   ]
  },
  {
   "cell_type": "code",
   "execution_count": 47,
   "id": "276a6f0b",
   "metadata": {},
   "outputs": [
    {
     "name": "stdout",
     "output_type": "stream",
     "text": [
      "---*\n",
      "--***\n",
      "-*****\n",
      "*******\n",
      "-*****\n",
      "--***\n",
      "---*\n"
     ]
    }
   ],
   "source": [
    "print('\\n'.join(list(map(lambda space , star: '-' * space + '*' * star, range(3,-1,-1), range(1,9,2)))))\n",
    "\n",
    "print('\\n'.join(list(map(lambda space , star: '-' * space + '*' * star, range(1,4), range(5,-1,-2)))))"
   ]
  },
  {
   "cell_type": "code",
   "execution_count": 48,
   "id": "189cdfb6",
   "metadata": {},
   "outputs": [
    {
     "name": "stdout",
     "output_type": "stream",
     "text": [
      "11111\n",
      "2222\n",
      "333\n",
      "44\n",
      "5\n"
     ]
    }
   ],
   "source": [
    "print('\\n'.join(list(map(lambda count , num: count * str(num), range(5,0,-1), range(1,6)))))"
   ]
  },
  {
   "cell_type": "code",
   "execution_count": 66,
   "id": "be6f6716",
   "metadata": {},
   "outputs": [
    {
     "name": "stdout",
     "output_type": "stream",
     "text": [
      "1234\n",
      "1234\n",
      "1234\n",
      "1234\n",
      "1234\n"
     ]
    }
   ],
   "source": [
    "print('\\n'.join(list(map(lambda row: ''.join(map(lambda num:str(num),range(1,5))), range(5)))))"
   ]
  },
  {
   "cell_type": "code",
   "execution_count": 72,
   "id": "dc4871e1",
   "metadata": {},
   "outputs": [
    {
     "name": "stdout",
     "output_type": "stream",
     "text": [
      "1234\n",
      "1234\n",
      "1234\n"
     ]
    }
   ],
   "source": [
    "print('\\n'.join(list(map(lambda row: ''.join(map(lambda num:str(num), range(1,5))), range(3)))))"
   ]
  },
  {
   "cell_type": "code",
   "execution_count": 74,
   "id": "ce58c65b",
   "metadata": {},
   "outputs": [
    {
     "name": "stdout",
     "output_type": "stream",
     "text": [
      "54321\n",
      "54321\n",
      "54321\n",
      "54321\n"
     ]
    }
   ],
   "source": [
    "print('\\n'.join(list(map(lambda row: ''.join(map(lambda num: str(num) , range(5,0,-1))), range(4)))))"
   ]
  },
  {
   "cell_type": "code",
   "execution_count": 77,
   "id": "175145ef",
   "metadata": {},
   "outputs": [
    {
     "name": "stdout",
     "output_type": "stream",
     "text": [
      "55555\n",
      "4444\n",
      "333\n",
      "22\n",
      "1\n"
     ]
    }
   ],
   "source": [
    "print('\\n'.join(list(map(lambda count , num: count * str(num), range(5,0,-1), range(5,0,-1) ))))"
   ]
  },
  {
   "cell_type": "code",
   "execution_count": 79,
   "id": "cd4e3ea3",
   "metadata": {},
   "outputs": [
    {
     "name": "stdout",
     "output_type": "stream",
     "text": [
      "1\n",
      "22\n",
      "333\n",
      "4444\n",
      "55555\n"
     ]
    }
   ],
   "source": [
    "print('\\n'.join(list(map(lambda count , num: count * str(num) ,range(1,6), range(1,6)))))"
   ]
  },
  {
   "cell_type": "code",
   "execution_count": 81,
   "id": "59211e38",
   "metadata": {},
   "outputs": [
    {
     "name": "stdout",
     "output_type": "stream",
     "text": [
      "55555\n",
      "-4444\n",
      "--333\n",
      "---22\n",
      "----1\n"
     ]
    }
   ],
   "source": [
    "print('\\n'.join(list(map(lambda space,count,num: '-' *space+ count *str(num),range(0,5),range(5,0,-1),range(5,0,-1)))))"
   ]
  },
  {
   "cell_type": "code",
   "execution_count": 83,
   "id": "19bd1008",
   "metadata": {},
   "outputs": [
    {
     "name": "stdout",
     "output_type": "stream",
     "text": [
      "----1\n",
      "---22\n",
      "--333\n",
      "-4444\n",
      "55555\n"
     ]
    }
   ],
   "source": [
    "print('\\n'.join(list(map(lambda space, count, num: '-'*space + count * str(num), range(4,-1,-1), range(1,6), range(1,6)))))"
   ]
  },
  {
   "cell_type": "code",
   "execution_count": 84,
   "id": "9981a6b2",
   "metadata": {},
   "outputs": [
    {
     "name": "stdout",
     "output_type": "stream",
     "text": [
      "11111\n",
      "2222\n",
      "333\n",
      "44\n",
      "5\n"
     ]
    }
   ],
   "source": [
    "print('\\n'.join(list(map(lambda count, num: count * str(num), range(5,0,-1), range(1,6)))))"
   ]
  },
  {
   "cell_type": "code",
   "execution_count": 87,
   "id": "7d74b8cc",
   "metadata": {},
   "outputs": [
    {
     "name": "stdout",
     "output_type": "stream",
     "text": [
      "5\n",
      "44\n",
      "333\n",
      "2222\n",
      "11111\n"
     ]
    }
   ],
   "source": [
    "print('\\n'.join(list(map(lambda count, num: count * str(num), range(1,6), range(5,0,-1)))))"
   ]
  },
  {
   "cell_type": "code",
   "execution_count": 101,
   "id": "64049644",
   "metadata": {},
   "outputs": [
    {
     "name": "stdout",
     "output_type": "stream",
     "text": [
      "11111\n",
      "-2222\n",
      "--333\n",
      "---44\n",
      "----5\n"
     ]
    }
   ],
   "source": [
    "print('\\n'.join(list(map(lambda space, count, num: '-'*space + str(num)*count, range(5),range(5,0,-1), range(1,6)))))"
   ]
  },
  {
   "cell_type": "code",
   "execution_count": 103,
   "id": "72cf3fbf",
   "metadata": {},
   "outputs": [
    {
     "name": "stdout",
     "output_type": "stream",
     "text": [
      "----5\n",
      "---44\n",
      "--333\n",
      "-2222\n",
      "11111\n"
     ]
    }
   ],
   "source": [
    "print('\\n'.join(list(map(lambda space, count, num: '-' * space + count*str(num), range(4,-1,-1), range(1,6), range(5,0,-1)))))"
   ]
  },
  {
   "cell_type": "code",
   "execution_count": 6,
   "id": "50de21ed",
   "metadata": {},
   "outputs": [
    {
     "name": "stdout",
     "output_type": "stream",
     "text": [
      "12345\n",
      "2345\n",
      "345\n",
      "45\n",
      "5\n"
     ]
    }
   ],
   "source": [
    "print('\\n'.join(list(map(lambda sv:''.join(map(str,range(sv,6))),range(1,6)))))"
   ]
  },
  {
   "cell_type": "code",
   "execution_count": 12,
   "id": "0b05b8c5",
   "metadata": {},
   "outputs": [
    {
     "name": "stdout",
     "output_type": "stream",
     "text": [
      "\n",
      "1\n",
      "12\n",
      "123\n",
      "1234\n",
      "12345\n"
     ]
    }
   ],
   "source": [
    "print('\\n'.join(list(map(lambda ev: ''.join(map(str,range(1,ev))),range(1,7)))))"
   ]
  },
  {
   "cell_type": "code",
   "execution_count": 15,
   "id": "0f91ee10",
   "metadata": {},
   "outputs": [
    {
     "name": "stdout",
     "output_type": "stream",
     "text": [
      "12345\n",
      "1234\n",
      "123\n",
      "12\n",
      "1\n"
     ]
    }
   ],
   "source": [
    "print('\\n'.join(list(map(lambda ev:''.join(map(str,range(1,ev))),range(6,1,-1)))))"
   ]
  },
  {
   "cell_type": "code",
   "execution_count": 12,
   "id": "bb92a43f",
   "metadata": {},
   "outputs": [
    {
     "name": "stdout",
     "output_type": "stream",
     "text": [
      "54321\n",
      "-4321\n",
      "--321\n",
      "---21\n",
      "----1\n"
     ]
    }
   ],
   "source": [
    "print('\\n'.join(list(map(lambda sv,space: '-'*space + ''.join(list(map(str,range(sv,0,-1)))),range(5,0,-1),range(5)))))"
   ]
  },
  {
   "cell_type": "code",
   "execution_count": 17,
   "id": "012cb485",
   "metadata": {},
   "outputs": [
    {
     "name": "stdout",
     "output_type": "stream",
     "text": [
      "----1\n",
      "---21\n",
      "--321\n",
      "-4321\n",
      "54321\n"
     ]
    }
   ],
   "source": [
    "print('\\n'.join(list(map(lambda sv,space:'-'*space + ''.join(list(map(str,range(sv,0,-1)))),range(1,6),range(4,-1,-1)))))"
   ]
  },
  {
   "cell_type": "code",
   "execution_count": 32,
   "id": "79ae3819",
   "metadata": {},
   "outputs": [
    {
     "name": "stdout",
     "output_type": "stream",
     "text": [
      "12345\n",
      "2345\n",
      "345\n",
      "45\n",
      "5\n"
     ]
    }
   ],
   "source": [
    "print('\\n'.join(list(map(lambda sv:''.join(list(map(str,range(sv,6)))),range(1,6)))))"
   ]
  },
  {
   "cell_type": "code",
   "execution_count": 35,
   "id": "769ffe7a",
   "metadata": {},
   "outputs": [
    {
     "name": "stdout",
     "output_type": "stream",
     "text": [
      "6\n",
      "12\n",
      "12\n"
     ]
    }
   ],
   "source": [
    "n = int(input())\n",
    "l  = list(map(int,input().split()))\n",
    "res=[]\n",
    "for i in range(len(l)):\n",
    "    if l[i]>0:\n",
    "        res.append(l[i])\n",
    "        \n",
    "if len(res)%2==0:\n",
    "    print(res[(len(res)//2)-1])\n",
    "else:\n",
    "    print(res[len(res)//2])"
   ]
  },
  {
   "cell_type": "code",
   "execution_count": 17,
   "id": "719f4fd6",
   "metadata": {},
   "outputs": [
    {
     "data": {
      "text/plain": [
       "5"
      ]
     },
     "execution_count": 17,
     "metadata": {},
     "output_type": "execute_result"
    }
   ],
   "source": [
    "def mno():\n",
    "    try:\n",
    "        return \"hii\"\n",
    "    except:\n",
    "        return \"hello\"\n",
    "    finally:\n",
    "        return 5\n",
    "mno()    \n",
    "    \n",
    "    \n",
    "    \n",
    "    "
   ]
  },
  {
   "cell_type": "code",
   "execution_count": null,
   "id": "a1a2c078",
   "metadata": {},
   "outputs": [],
   "source": []
  }
 ],
 "metadata": {
  "kernelspec": {
   "display_name": "Python 3 (ipykernel)",
   "language": "python",
   "name": "python3"
  },
  "language_info": {
   "codemirror_mode": {
    "name": "ipython",
    "version": 3
   },
   "file_extension": ".py",
   "mimetype": "text/x-python",
   "name": "python",
   "nbconvert_exporter": "python",
   "pygments_lexer": "ipython3",
   "version": "3.9.13"
  }
 },
 "nbformat": 4,
 "nbformat_minor": 5
}
