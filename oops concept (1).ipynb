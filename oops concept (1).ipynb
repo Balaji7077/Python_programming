{
 "cells": [
  {
   "cell_type": "markdown",
   "id": "0b034fbd",
   "metadata": {},
   "source": [
    "# object oriented programing(oops)"
   ]
  },
  {
   "cell_type": "markdown",
   "id": "9326080d",
   "metadata": {},
   "source": [
    "oops is a methodologie to desgine programes using class and object."
   ]
  },
  {
   "cell_type": "markdown",
   "id": "6ad8bcb2",
   "metadata": {},
   "source": [
    "# class"
   ]
  },
  {
   "cell_type": "markdown",
   "id": "fe00b73f",
   "metadata": {},
   "source": [
    "-:class is a blue print that is used to create the object.\n",
    "\n",
    "-:class is created with the help of class keyword.\n",
    "\n",
    "ex-"
   ]
  },
  {
   "cell_type": "code",
   "execution_count": 2,
   "id": "fa1b25e3",
   "metadata": {},
   "outputs": [],
   "source": [
    "class py_spiders:\n",
    "    pass\n"
   ]
  },
  {
   "cell_type": "code",
   "execution_count": 3,
   "id": "c4a3b005",
   "metadata": {},
   "outputs": [],
   "source": [
    "class py_spiders():\n",
    "    pass"
   ]
  },
  {
   "cell_type": "markdown",
   "id": "f6dc29ce",
   "metadata": {},
   "source": [
    "# object"
   ]
  },
  {
   "cell_type": "markdown",
   "id": "878179fa",
   "metadata": {},
   "source": [
    "-:object is a real time entity that has state and behaviour.\n",
    "\n",
    "-:object is created with the help of class address.\n",
    "\n",
    "-:with help of class we can create any number of object.\n",
    "\n",
    "-:state of an object means details of given object.\n",
    "\n",
    "-:behaviour of an object means function details of given object.\n"
   ]
  },
  {
   "cell_type": "markdown",
   "id": "5018c944",
   "metadata": {},
   "source": [
    "ex:-"
   ]
  },
  {
   "cell_type": "code",
   "execution_count": 4,
   "id": "6dc6e93f",
   "metadata": {},
   "outputs": [
    {
     "name": "stdout",
     "output_type": "stream",
     "text": [
      "<class '__main__.py_spiders'>\n",
      "<__main__.py_spiders object at 0x000001BA861B9370>\n",
      "<class '__main__.py_spiders'>\n"
     ]
    }
   ],
   "source": [
    "class py_spiders:\n",
    "    pass \n",
    "s1=py_spiders()\n",
    "print(py_spiders)\n",
    "print(s1)\n",
    "print(type(s1))"
   ]
  },
  {
   "cell_type": "markdown",
   "id": "5abe6e42",
   "metadata": {},
   "source": [
    "ex:-"
   ]
  },
  {
   "cell_type": "markdown",
   "id": "908976fc",
   "metadata": {},
   "source": [
    "Laptop:-\n",
    "    company name.\n",
    "    processor.\n",
    "    ram.\n",
    "    graphics.\n",
    "    sc width.\n",
    "    sc dimension.\n",
    "    color."
   ]
  },
  {
   "cell_type": "markdown",
   "id": "c615b41f",
   "metadata": {},
   "source": [
    "student:-\n",
    "    name\n",
    "    mob\n",
    "    age\n",
    "    mail\n",
    "    batchcode\n",
    "    course"
   ]
  },
  {
   "cell_type": "markdown",
   "id": "5f53f0ea",
   "metadata": {},
   "source": [
    "-:for every object there will be common details and there will be un common details.\n",
    "\n",
    "-common details:-class member\n",
    "\n",
    "-uncommon:- object member.\n",
    "\n",
    "-there are two type of atributes members atribute/veriable.\n",
    "\n",
    "-class member or class atributes.\n",
    "\n",
    "-object member or object attributes.\n",
    "\n",
    "ex:-\n"
   ]
  },
  {
   "cell_type": "code",
   "execution_count": 6,
   "id": "99a75e68",
   "metadata": {},
   "outputs": [
    {
     "name": "stdout",
     "output_type": "stream",
     "text": [
      "python fullstack ptd-m3\n",
      "python fullstack ptd-m3\n"
     ]
    }
   ],
   "source": [
    "class py_spiders:\n",
    "    course='python fullstack'\n",
    "    batch_code='ptd-m3'\n",
    "    \n",
    "s1=py_spiders\n",
    "print(s1.course,s1.batch_code)\n",
    "print(py_spiders.course,py_spiders.batch_code)"
   ]
  },
  {
   "cell_type": "markdown",
   "id": "02ac0635",
   "metadata": {},
   "source": [
    "# class member"
   ]
  },
  {
   "cell_type": "markdown",
   "id": "cc1a15d3",
   "metadata": {},
   "source": [
    ":-it is declared inside the class.\n",
    "\n",
    ":-class member are accesed and modified with th help of class reference or object reference.\n",
    "\n",
    ":-if we modified help of class refernce it will change for all the object.\n",
    "\n",
    ":-if we modified with help of object reference it will change for only one \n",
    "\n",
    "ex:-"
   ]
  },
  {
   "cell_type": "code",
   "execution_count": 8,
   "id": "8ca3e420",
   "metadata": {
    "scrolled": true
   },
   "outputs": [
    {
     "name": "stdout",
     "output_type": "stream",
     "text": [
      "python fullstack,ptd-m3\n",
      "python fullstack,ptd-m3\n",
      "python fullstack,ptd-m3\n"
     ]
    }
   ],
   "source": [
    "class py_spiders:\n",
    "    course='python fullstack'\n",
    "    batch_code='ptd-m3'\n",
    "    \n",
    "s1=py_spiders\n",
    "s2=py_spiders\n",
    "s3=py_spiders\n",
    "\n",
    "print(s1.course,s1.batch_code,sep=',')\n",
    "print(s2.course,s1.batch_code,sep=',')\n",
    "print(s3.course,s1.batch_code,sep=',')"
   ]
  },
  {
   "cell_type": "code",
   "execution_count": 9,
   "id": "cd865660",
   "metadata": {},
   "outputs": [
    {
     "name": "stdout",
     "output_type": "stream",
     "text": [
      "java fullstack,ptd-m3\n",
      "java fullstack,ptd-m3\n",
      "java fullstack,ptd-m3\n"
     ]
    }
   ],
   "source": [
    "class py_spiders:\n",
    "    course='python fullstack'\n",
    "    batch_code='ptd-m3'\n",
    "    \n",
    "s1=py_spiders\n",
    "s2=py_spiders\n",
    "s3=py_spiders\n",
    "6\n",
    "py_spiders.course='java fullstack'\n",
    "\n",
    "print(s1.course,s1.batch_code,sep=',')\n",
    "print(s2.course,s1.batch_code,sep=',')\n",
    "print(s3.course,s1.batch_code,sep=',')"
   ]
  },
  {
   "cell_type": "code",
   "execution_count": 12,
   "id": "5d1973f3",
   "metadata": {},
   "outputs": [
    {
     "name": "stdout",
     "output_type": "stream",
     "text": [
      "java fullstack,ptd-m3\n",
      "java fullstack,ptd-m3\n",
      "java fullstack,ptd-m3\n",
      "------------------------------\n",
      "java fullstack,ptd-m3\n"
     ]
    }
   ],
   "source": [
    "class py_spiders:\n",
    "    course='python fullstack'\n",
    "    batch_code='ptd-m3'\n",
    "    \n",
    "s1=py_spiders\n",
    "s2=py_spiders\n",
    "s3=py_spiders\n",
    "\n",
    "py_spiders.course='java fullstack'\n",
    "\n",
    "print(s1.course,s1.batch_code,sep=',')\n",
    "print(s2.course,s1.batch_code,sep=',')\n",
    "print(s3.course,s1.batch_code,sep=',')\n",
    "print('-'*30)\n",
    "print(py_spiders.course,py_spiders.batch_code,sep=',')"
   ]
  },
  {
   "cell_type": "code",
   "execution_count": 13,
   "id": "3a5ceb5c",
   "metadata": {},
   "outputs": [
    {
     "name": "stdout",
     "output_type": "stream",
     "text": [
      "balaji roshni bapi\n"
     ]
    }
   ],
   "source": [
    "class py_spiders:\n",
    "    course='python fullstack'\n",
    "    batch_code='ptd-m3'\n",
    "\n",
    "s1=py_spiders()\n",
    "s2=py_spiders()\n",
    "s3=py_spiders()\n",
    "\n",
    "def student_details(obj,name,age,mail):\n",
    "    obj.name=name\n",
    "    obj.age=age\n",
    "    obj.mail=mail\n",
    "    \n",
    "student_details(s1,'balaji',24,'balajisabat6@gmail.com')\n",
    "student_details(s2,'roshni',21,'roshni@gmail.com')\n",
    "student_details(s3,'bapi',24,'bapi@gmail.com')\n",
    "\n",
    "print(s1.name,s2.name,s3.name)"
   ]
  },
  {
   "cell_type": "markdown",
   "id": "cf923ddd",
   "metadata": {},
   "source": [
    "# object member"
   ]
  },
  {
   "cell_type": "markdown",
   "id": "bb864751",
   "metadata": {},
   "source": [
    " -object member are initialized inside constructor.\n",
    "\n",
    "-we can access and modified only with the help of obj reference."
   ]
  },
  {
   "cell_type": "markdown",
   "id": "abce97d4",
   "metadata": {},
   "source": [
    "# constructor"
   ]
  },
  {
   "cell_type": "markdown",
   "id": "7c3f5422",
   "metadata": {},
   "source": [
    "-constructer is magic method that called when obj is created.\n",
    "\n",
    "-constroctor takes a mandatory argument ('self') that stores the address of the object.\n",
    "\n",
    "-constuctor is use to intialize object members"
   ]
  },
  {
   "cell_type": "code",
   "execution_count": 13,
   "id": "d0786a9b",
   "metadata": {},
   "outputs": [
    {
     "name": "stdout",
     "output_type": "stream",
     "text": [
      "Canara Bank,993833,6\n",
      "Paytm Bank,85511,9\n",
      "Airtel Bank,67345,8\n"
     ]
    }
   ],
   "source": [
    "class Bank:\n",
    "    def __init__(self,Bankname,ifsc_code,Roi):\n",
    "        self.Bankname=Bankname\n",
    "        self.ifsc_code=ifsc_code\n",
    "        self.Roi=Roi\n",
    "\n",
    "\n",
    "B1=Bank('Canara Bank',993833,6)\n",
    "B2=Bank('Paytm Bank',85511,9)\n",
    "B3=Bank('Airtel Bank',67345,8)\n",
    "\n",
    "print(B1.Bankname,B1.ifsc_code,B1.Roi,sep=',')\n",
    "print(B2.Bankname,B2.ifsc_code,B2.Roi,sep=',')\n",
    "print(B3.Bankname,B3.ifsc_code,B3.Roi,sep=',')\n"
   ]
  },
  {
   "cell_type": "code",
   "execution_count": 20,
   "id": "2b157327",
   "metadata": {},
   "outputs": [
    {
     "name": "stdout",
     "output_type": "stream",
     "text": [
      "Canara Bank,80385678,7\n",
      "---------------------------------------\n",
      "Balaji,956321789,7789993833,79000\n",
      "Sabat,895633421,8763505511,67321\n",
      "Bapi,567342189,7205131773,85605\n"
     ]
    }
   ],
   "source": [
    "class Bank:\n",
    "    BankName='Canara Bank'\n",
    "    ifsc_code=80385678\n",
    "    roi=7\n",
    "    \n",
    "\n",
    "    def __init__(self,Name,AccNo,MobileNo,Balance):\n",
    "        self.Name=Name\n",
    "        self.AccNo=AccNo\n",
    "        self.MobileNo=MobileNo\n",
    "        self.Balance=Balance\n",
    "\n",
    "B1=Bank('Balaji',956321789,7789993833,79000)\n",
    "B2=Bank('Sabat',895633421,8763505511,67321)\n",
    "B3=Bank('Bapi',567342189,7205131773,85605)\n",
    "\n",
    "\n",
    "print(B1.BankName,B1.ifsc_code,B1.roi,sep=',')\n",
    "print('---------------------------------------')\n",
    "\n",
    "print(B1.Name,B1.AccNo,B1.MobileNo,B1.Balance,sep=',')\n",
    "print(B2.Name,B2.AccNo,B2.MobileNo,B2.Balance,sep=',')\n",
    "print(B3.Name,B3.AccNo,B3.MobileNo,B3.Balance,sep=',')"
   ]
  },
  {
   "cell_type": "code",
   "execution_count": 4,
   "id": "e49a827f",
   "metadata": {
    "scrolled": true
   },
   "outputs": [
    {
     "name": "stdout",
     "output_type": "stream",
     "text": [
      "Enter The 4 Digit Pin: 2323\n",
      "Balaji has account balance of 12000\n",
      "Enter The Amount To Withdraw2345\n",
      " The Amount After Withdraw is 9655\n",
      "Enter the amount for deposit:3456\n",
      " The Balance After Deposite Is 13111\n",
      "Enter The Old Pin2323\n",
      "ENter The New Pin2345\n",
      "Reenter The New Pin2345\n",
      "Pin Has Been Changed Succsessfully\n",
      "The roi has been changed to 3.5\n"
     ]
    }
   ],
   "source": [
    "class Bank:\n",
    "    Bankname  = 'Canara Bank'\n",
    "    Ifsc_code = 'CNB8038'\n",
    "    Branch    = 'Marathali'\n",
    "    Roi       = 3.8\n",
    "    def __init__(self, Name, AccNo, MobileNo, Balance, Pin):\n",
    "        self.Name     = Name\n",
    "        self.AccNo    = AccNo\n",
    "        self.MobileNo = MobileNo\n",
    "        self.Balance  = Balance\n",
    "        self.Pin      = Pin\n",
    "    def Check_Balance(self):\n",
    "        if self.Pin == self.validation():\n",
    "            return f'{self.Name} has account balance of {self.Balance}'\n",
    "        else:\n",
    "            return 'Incorrect Pin'\n",
    "    def withdraw(self):\n",
    "        amount= int(input('Enter The Amount To Withdraw'))\n",
    "        if self.Balance >= amount:\n",
    "            self.Balance-= amount\n",
    "            return f' The Amount After Withdraw is {self.Balance}'\n",
    "        else:\n",
    "            return 'Insufficient Balance'\n",
    "    def Deposite(self):\n",
    "        amount=int(input('Enter the amount for deposit:'))\n",
    "        self.Balance+= amount\n",
    "        return f' The Balance After Deposite Is {self.Balance}'\n",
    "    def Change_Pin(self):\n",
    "        old_pin = int(input('Enter The Old Pin'))\n",
    "        new_pin1 = int(input('ENter The New Pin'))\n",
    "        new_pin2 = int(input('Reenter The New Pin'))\n",
    "        if new_pin1 != new_pin2:\n",
    "            return 'Try It Again'\n",
    "        else:\n",
    "            return 'Pin Has Been Changed Succsessfully'\n",
    "    @classmethod\n",
    "    def change_roi(cls):\n",
    "        cls.roi=3.5\n",
    "        return f'The roi has been changed to {cls.roi}'\n",
    "    @staticmethod\n",
    "    def validation( ):\n",
    "        return int(input('Enter The 4 Digit Pin: '))\n",
    "C1 = Bank('Balaji', '803876563', 7789993833,12000, 2323)\n",
    "C2 = Bank('Sabat', '7893784657', 8763505511, 15000, 4545)\n",
    "print(C1.Check_Balance())\n",
    "print(C1.withdraw())\n",
    "print(C1.Deposite())\n",
    "print(C1.Change_Pin())\n",
    "print(C1.change_roi())\n"
   ]
  },
  {
   "cell_type": "markdown",
   "id": "154c278d",
   "metadata": {},
   "source": [
    "# what is difference between class atribute and object attribute."
   ]
  },
  {
   "cell_type": "markdown",
   "id": "98a49142",
   "metadata": {},
   "source": [
    "-:class members are accessed with the help of class address and object address where object member can be accessed only with the help of object address.\n",
    "\n",
    "-:class membres are initialize inside the class where as object members are intialize inside constuctor.\n",
    "\n",
    "-:behaviour of the object is defined with the help of methods.\n",
    "\n",
    "-:there are 3 type of methods.\n",
    "\n",
    "1:object method.\n",
    "\n",
    "2:class method\n",
    "\n",
    "3:static method.\n",
    "\n",
    "ex-"
   ]
  },
  {
   "cell_type": "code",
   "execution_count": 3,
   "id": "c3514dd4",
   "metadata": {},
   "outputs": [
    {
     "name": "stdout",
     "output_type": "stream",
     "text": [
      "<bound method A.method1 of <__main__.A object at 0x00000215209E0400>>\n"
     ]
    }
   ],
   "source": [
    "class A:\n",
    "    def method1(self):\n",
    "        print('m1 of class A')\n",
    "    @classmethod\n",
    "    def method2(cls):\n",
    "        print('m2 of class A')\n",
    "    @staticmethod\n",
    "    def method3():\n",
    "        print('m3 of class A')\n",
    "        \n",
    "obj=A()\n",
    "print(obj.method1)"
   ]
  },
  {
   "cell_type": "markdown",
   "id": "e9a1e35c",
   "metadata": {},
   "source": [
    "# object method"
   ]
  },
  {
   "cell_type": "markdown",
   "id": "276fa24f",
   "metadata": {},
   "source": [
    "-:object method is used to access and modify object members.\n",
    "\n",
    "-:it takes mendatory argument self which holda address of the object.\n",
    "\n",
    "-:it is called with the help of object reference."
   ]
  },
  {
   "cell_type": "markdown",
   "id": "a93bc57d",
   "metadata": {},
   "source": [
    "# class method"
   ]
  },
  {
   "cell_type": "markdown",
   "id": "d0e861d0",
   "metadata": {},
   "source": [
    "-:its called with the help of @classmethod decorator.\n",
    "\n",
    "-:it is use to access and modified class members.\n",
    "\n",
    "-:it takes mandatory argument cls that have stored address of class.\n",
    "\n",
    "-:by calling it we use class reference and object reference."
   ]
  },
  {
   "cell_type": "markdown",
   "id": "326628a7",
   "metadata": {},
   "source": [
    "# static method"
   ]
  },
  {
   "cell_type": "markdown",
   "id": "1889fbbd",
   "metadata": {},
   "source": [
    "-:it is created with the help of @staticmethod decorateor.\n",
    "\n",
    "-:it can not access or modifie any data member.\n",
    "\n",
    "-:it not accept any mandatory argument.\n",
    "\n",
    "-:by calling it we use both class and object reference."
   ]
  },
  {
   "cell_type": "markdown",
   "id": "0c908caf",
   "metadata": {},
   "source": [
    "# what is difference between object method and class method."
   ]
  },
  {
   "cell_type": "markdown",
   "id": "2a649d53",
   "metadata": {},
   "source": [
    "-:Object method is access and modified object members and its take mandatory argument self that holds address of object it is called with the help of object address."
   ]
  },
  {
   "cell_type": "markdown",
   "id": "669fb6fd",
   "metadata": {},
   "source": [
    "-:Class method is created with the help @classmethod decorater. it takes mandatory argument cls that holds address of a class by can calling it we use class reference and object rerfrence."
   ]
  },
  {
   "cell_type": "markdown",
   "id": "d80b17ed",
   "metadata": {},
   "source": [
    "# inheritence"
   ]
  },
  {
   "cell_type": "markdown",
   "id": "3069e9f5",
   "metadata": {},
   "source": [
    "-:it is a process of inheriting properties from one class to another class.\n",
    "\n",
    "ex- \n",
    "class A- parent class,super class.\n",
    "\n",
    "class B- child class,derived class."
   ]
  },
  {
   "cell_type": "markdown",
   "id": "15faee37",
   "metadata": {},
   "source": [
    "# Types of inheritence"
   ]
  },
  {
   "cell_type": "markdown",
   "id": "f0da1acf",
   "metadata": {},
   "source": [
    "1:-single level inheritence.\n",
    "    \n",
    "2:-multilevel inheritence.\n",
    "\n",
    "3:-multiple inheritence.\n",
    "\n",
    "4:-hiererachical inheritance.\n",
    "\n",
    "5:-hybrid inheritence."
   ]
  },
  {
   "cell_type": "markdown",
   "id": "5f00bb20",
   "metadata": {},
   "source": [
    "# single level inheritence"
   ]
  },
  {
   "cell_type": "markdown",
   "id": "e9c00d8c",
   "metadata": {},
   "source": [
    "-:inheritence properties to one parent class to one child class."
   ]
  },
  {
   "cell_type": "code",
   "execution_count": 5,
   "id": "d61ca5d6",
   "metadata": {},
   "outputs": [
    {
     "name": "stdout",
     "output_type": "stream",
     "text": [
      "50\n"
     ]
    }
   ],
   "source": [
    "class A:\n",
    "    a=20\n",
    "    b=30\n",
    "class B(A):\n",
    "    add=A.a+A.b\n",
    "    print(add)\n",
    "q=A()"
   ]
  },
  {
   "cell_type": "markdown",
   "id": "3f05ecca",
   "metadata": {},
   "source": [
    "# multilevel inheritence"
   ]
  },
  {
   "cell_type": "markdown",
   "id": "ebde12f4",
   "metadata": {},
   "source": [
    "-:inheriting properties of one child class to another child class."
   ]
  },
  {
   "cell_type": "markdown",
   "id": "f2ed9c20",
   "metadata": {},
   "source": [
    "# multiple inheritence"
   ]
  },
  {
   "cell_type": "markdown",
   "id": "68f22a16",
   "metadata": {},
   "source": [
    "-:inheriting properties of multiple parent class to one child class.\n",
    "\n",
    "note-:in java multiple inheritence is not possible because object of child class will get confused which parent class data member or method need to be taken.\n",
    "\n",
    "-:in python multiple inheritence parent class are inheriting in the order so if datamember or method not in child class it takes immidiate parent class properties."
   ]
  },
  {
   "cell_type": "markdown",
   "id": "baec579c",
   "metadata": {},
   "source": [
    "# hiererachical inheritance"
   ]
  },
  {
   "cell_type": "markdown",
   "id": "f3cef92b",
   "metadata": {},
   "source": [
    "-:inheriting one perent class to multiple child class."
   ]
  },
  {
   "cell_type": "code",
   "execution_count": 6,
   "id": "cedb7e0b",
   "metadata": {},
   "outputs": [
    {
     "name": "stdout",
     "output_type": "stream",
     "text": [
      "130\n",
      "160\n"
     ]
    }
   ],
   "source": [
    "class A:\n",
    "    a=90\n",
    "class B(A):\n",
    "    b=40\n",
    "    add=b+A.a\n",
    "    print(add)\n",
    "class C(A):\n",
    "    d=70\n",
    "    add2=d+A.a\n",
    "    print(add2)\n",
    "w=A()"
   ]
  },
  {
   "cell_type": "markdown",
   "id": "c7bd50c8",
   "metadata": {},
   "source": [
    "# hybrid inheritence"
   ]
  },
  {
   "cell_type": "markdown",
   "id": "72be8655",
   "metadata": {},
   "source": [
    "-:combination of more then one type of inheritence is called hybrid inheritence "
   ]
  },
  {
   "cell_type": "markdown",
   "id": "8ad7ab84",
   "metadata": {},
   "source": [
    "# constuctor chaining"
   ]
  },
  {
   "cell_type": "markdown",
   "id": "d961cc34",
   "metadata": {},
   "source": [
    "-:it is a process of calling parent class constuctor from child constuctor,when parent class constuctor is over riden with child class constructor\n",
    "\n",
    "-:consturctor changing is perform with the help of supermethod or class name."
   ]
  },
  {
   "cell_type": "markdown",
   "id": "5cbd2a91",
   "metadata": {},
   "source": [
    "syntax:-\n",
    "\n",
    "-:super().--init--().\n",
    "\n",
    "-:classname.--init--(self).\n",
    "\n",
    "-:in multiple inheritance constuctor chaining cannot be performed with the help of supermethod because super method takes immidiate parent class.\n",
    "\n",
    "-:constuctor chaining can be performed with the help of class name.\n",
    "\n",
    "ex-"
   ]
  },
  {
   "cell_type": "markdown",
   "id": "b556643d",
   "metadata": {},
   "source": [
    "ex-:"
   ]
  },
  {
   "cell_type": "code",
   "execution_count": 1,
   "id": "9f03ab64",
   "metadata": {
    "scrolled": true
   },
   "outputs": [
    {
     "name": "stdout",
     "output_type": "stream",
     "text": [
      "class a constructor\n",
      "class b constuctor\n",
      "class c constuctor\n"
     ]
    }
   ],
   "source": [
    "class A:\n",
    "    def __init__(self):\n",
    "        print('class a constructor')\n",
    "class B(A):\n",
    "    def __init__(self):\n",
    "        super(). __init__()\n",
    "        print('class b constuctor')\n",
    "class c(B):\n",
    "    def __init__(self):\n",
    "        super().__init__()\n",
    "        print('class c constuctor')\n",
    "        \n",
    "C1=c()"
   ]
  },
  {
   "cell_type": "code",
   "execution_count": 2,
   "id": "0ef2622f",
   "metadata": {},
   "outputs": [
    {
     "name": "stdout",
     "output_type": "stream",
     "text": [
      "class A constuctor\n",
      "class B constructor\n",
      "class C constuctor\n"
     ]
    }
   ],
   "source": [
    "class A:\n",
    "    def __init__(self):\n",
    "        print('class A constuctor')\n",
    "class B:\n",
    "    def __init__(self):\n",
    "        print('class B constructor')\n",
    "class C(A,B):\n",
    "    def __init__(self):\n",
    "        A.__init__(self)\n",
    "        B.__init__(self)\n",
    "        print('class C constuctor')\n",
    "\n",
    "c1=C()"
   ]
  },
  {
   "cell_type": "markdown",
   "id": "6ea0dcb4",
   "metadata": {},
   "source": [
    "ex-"
   ]
  },
  {
   "cell_type": "code",
   "execution_count": 5,
   "id": "c9150230",
   "metadata": {},
   "outputs": [
    {
     "name": "stdout",
     "output_type": "stream",
     "text": [
      "Text message\n",
      "Voice message\n",
      "Sending photo files\n",
      "Sending video files\n",
      "Voice call\n",
      "Video call\n"
     ]
    }
   ],
   "source": [
    "class whatsaap_v1:\n",
    "    def message(self):\n",
    "        print('Text message')\n",
    "    def send(self):\n",
    "        print('Sending photo files')\n",
    "        \n",
    "class whatsaap_v2(whatsaap_v1):\n",
    "    def message(self):\n",
    "        super().message()\n",
    "        print('Voice message')\n",
    "    def send(self):\n",
    "        super().send()\n",
    "        print('Sending video files')\n",
    "        \n",
    "class whatsaap_v3(whatsaap_v2):\n",
    "    def call(self):\n",
    "        print('Voice call')\n",
    "        \n",
    "class whatsaap_v4(whatsaap_v3):\n",
    "    def call(self):\n",
    "        super().call()\n",
    "        print('Video call')\n",
    "        \n",
    "obj=whatsaap_v4()\n",
    "\n",
    "obj.message()\n",
    "obj.send()\n",
    "obj.call()"
   ]
  },
  {
   "cell_type": "markdown",
   "id": "cffe2431",
   "metadata": {},
   "source": [
    "ex-"
   ]
  },
  {
   "cell_type": "code",
   "execution_count": 1,
   "id": "6828c7f0",
   "metadata": {},
   "outputs": [
    {
     "name": "stdout",
     "output_type": "stream",
     "text": [
      "Ram\n",
      "7789993833\n",
      "80382310001410\n",
      "5000\n",
      "Balajisabat6@gmail.com\n",
      "LBCP890\n",
      "79090\n"
     ]
    }
   ],
   "source": [
    "class bankv1:\n",
    "    BankName = 'Canara'\n",
    "    Roi      = 0.07\n",
    "    def __init__(self,name,mno,accno,bal):\n",
    "        self.name  = name\n",
    "        self.mno   = mno\n",
    "        self.accno = accno\n",
    "        self.bal   = bal\n",
    "class bankv2(bankv1):\n",
    "    def __init__(self,name,mno,accno,bal,mail,pan,adhar):\n",
    "        super().__init__(name,mno,accno,bal)\n",
    "        self.mail  = mail\n",
    "        self.pan   = pan\n",
    "        self.adhar = adhar\n",
    "b1=bankv2('Ram',7789993833,80382310001410,5000,'Balajisabat6@gmail.com','LBCP890',79090)\n",
    "\n",
    "print(b1.name)\n",
    "print(b1.mno)\n",
    "print(b1.accno)\n",
    "print(b1.bal)\n",
    "print(b1.mail)\n",
    "print(b1.pan)\n",
    "print(b1.adhar)"
   ]
  },
  {
   "cell_type": "markdown",
   "id": "efe71b22",
   "metadata": {},
   "source": [
    "# Method chaining"
   ]
  },
  {
   "cell_type": "markdown",
   "id": "a929b95b",
   "metadata": {},
   "source": [
    "method chaining is performed only if the method of parent class is overriden by the method present in the child class."
   ]
  },
  {
   "cell_type": "code",
   "execution_count": 9,
   "id": "f5670ccd",
   "metadata": {},
   "outputs": [
    {
     "name": "stdout",
     "output_type": "stream",
     "text": [
      "method1 of class A\n",
      "method2 of class B\n"
     ]
    }
   ],
   "source": [
    "class A:\n",
    "    def method1(self):\n",
    "        print('method1 of class A')\n",
    "class B(A):\n",
    "    def method2(self):\n",
    "        super().method1()\n",
    "        print('method2 of class B')\n",
    "obj=B()\n",
    "obj.method2()"
   ]
  },
  {
   "cell_type": "code",
   "execution_count": 13,
   "id": "031cb0af",
   "metadata": {},
   "outputs": [
    {
     "name": "stdout",
     "output_type": "stream",
     "text": [
      "method1 of class A\n",
      "method2 of class B\n",
      "method3 of class c\n"
     ]
    }
   ],
   "source": [
    "class A:\n",
    "    def method1(self):\n",
    "        print('method1 of class A')\n",
    "class B:\n",
    "    def method2(self):\n",
    "        print('method2 of class B')\n",
    "class C(A,B):\n",
    "    def method3(self):\n",
    "        A.method1(self)\n",
    "        B.method2(self)\n",
    "        print('method3 of class c')\n",
    "obj=C()\n",
    "obj.method3()"
   ]
  },
  {
   "cell_type": "markdown",
   "id": "bfaec77a",
   "metadata": {},
   "source": [
    "# Method Resolution order(mrd)"
   ]
  },
  {
   "cell_type": "markdown",
   "id": "adf492ae",
   "metadata": {},
   "source": [
    "it is a process of resolving data members (Atributes) and methods"
   ]
  },
  {
   "cell_type": "markdown",
   "id": "b7bb46f3",
   "metadata": {},
   "source": [
    "ex-"
   ]
  },
  {
   "cell_type": "code",
   "execution_count": 5,
   "id": "a23aaef8",
   "metadata": {},
   "outputs": [
    {
     "name": "stdout",
     "output_type": "stream",
     "text": [
      "[<class '__main__.D'>, <class '__main__.B'>, <class '__main__.C'>, <class '__main__.A'>, <class 'object'>]\n"
     ]
    }
   ],
   "source": [
    "class A:\n",
    "    pass\n",
    "class B(A):\n",
    "    pass\n",
    "class C(A):\n",
    "    pass\n",
    "class D(B,C):\n",
    "    pass\n",
    "print(D.mro())"
   ]
  },
  {
   "cell_type": "markdown",
   "id": "e2c37ebd",
   "metadata": {},
   "source": [
    "ex-2"
   ]
  },
  {
   "cell_type": "code",
   "execution_count": 6,
   "id": "84cefe30",
   "metadata": {},
   "outputs": [
    {
     "name": "stdout",
     "output_type": "stream",
     "text": [
      "[<class '__main__.D'>, <class '__main__.B'>, <class '__main__.A'>, <class '__main__.C'>, <class 'object'>]\n"
     ]
    }
   ],
   "source": [
    "class A:\n",
    "    pass\n",
    "class B(A):\n",
    "    pass\n",
    "class C:\n",
    "    pass\n",
    "class D(B,C):\n",
    "    pass\n",
    "print(D.mro())"
   ]
  },
  {
   "cell_type": "markdown",
   "id": "a772f808",
   "metadata": {},
   "source": [
    "ex-3"
   ]
  },
  {
   "cell_type": "code",
   "execution_count": 7,
   "id": "1fceea6c",
   "metadata": {},
   "outputs": [
    {
     "name": "stdout",
     "output_type": "stream",
     "text": [
      "[<class '__main__.E'>, <class '__main__.C'>, <class '__main__.D'>, <class '__main__.A'>, <class '__main__.B'>, <class 'object'>]\n"
     ]
    }
   ],
   "source": [
    "class A:\n",
    "    pass\n",
    "class B:\n",
    "    pass\n",
    "class C(A,B):\n",
    "    pass\n",
    "class D(A,B):\n",
    "    pass\n",
    "class E(C,D):\n",
    "    pass\n",
    "print(E.mro())"
   ]
  },
  {
   "cell_type": "markdown",
   "id": "5ff9a319",
   "metadata": {},
   "source": [
    "ex-4"
   ]
  },
  {
   "cell_type": "code",
   "execution_count": 8,
   "id": "e5cb9fcc",
   "metadata": {},
   "outputs": [
    {
     "ename": "TypeError",
     "evalue": "Cannot create a consistent method resolution\norder (MRO) for bases B, A",
     "output_type": "error",
     "traceback": [
      "\u001b[1;31m---------------------------------------------------------------------------\u001b[0m",
      "\u001b[1;31mTypeError\u001b[0m                                 Traceback (most recent call last)",
      "\u001b[1;32m~\\AppData\\Local\\Temp\\ipykernel_1972\\272203092.py\u001b[0m in \u001b[0;36m<module>\u001b[1;34m\u001b[0m\n\u001b[0;32m      7\u001b[0m \u001b[1;32mclass\u001b[0m \u001b[0mD\u001b[0m\u001b[1;33m(\u001b[0m\u001b[0mA\u001b[0m\u001b[1;33m,\u001b[0m\u001b[0mB\u001b[0m\u001b[1;33m)\u001b[0m\u001b[1;33m:\u001b[0m\u001b[1;33m\u001b[0m\u001b[1;33m\u001b[0m\u001b[0m\n\u001b[0;32m      8\u001b[0m     \u001b[1;32mpass\u001b[0m\u001b[1;33m\u001b[0m\u001b[1;33m\u001b[0m\u001b[0m\n\u001b[1;32m----> 9\u001b[1;33m \u001b[1;32mclass\u001b[0m \u001b[0mE\u001b[0m\u001b[1;33m(\u001b[0m\u001b[0mC\u001b[0m\u001b[1;33m,\u001b[0m\u001b[0mD\u001b[0m\u001b[1;33m)\u001b[0m\u001b[1;33m:\u001b[0m\u001b[1;33m\u001b[0m\u001b[1;33m\u001b[0m\u001b[0m\n\u001b[0m\u001b[0;32m     10\u001b[0m     \u001b[1;32mpass\u001b[0m\u001b[1;33m\u001b[0m\u001b[1;33m\u001b[0m\u001b[0m\n\u001b[0;32m     11\u001b[0m \u001b[0mprint\u001b[0m\u001b[1;33m(\u001b[0m\u001b[0mD\u001b[0m\u001b[1;33m.\u001b[0m\u001b[0mmro\u001b[0m\u001b[1;33m(\u001b[0m\u001b[1;33m)\u001b[0m\u001b[1;33m)\u001b[0m\u001b[1;33m\u001b[0m\u001b[1;33m\u001b[0m\u001b[0m\n",
      "\u001b[1;31mTypeError\u001b[0m: Cannot create a consistent method resolution\norder (MRO) for bases B, A"
     ]
    }
   ],
   "source": [
    "class A:\n",
    "    pass\n",
    "class B:\n",
    "    pass\n",
    "class C(B,A):\n",
    "    pass\n",
    "class D(A,B):\n",
    "    pass\n",
    "class E(C,D):\n",
    "    pass\n",
    "print(D.mro())"
   ]
  },
  {
   "cell_type": "markdown",
   "id": "501c3213",
   "metadata": {},
   "source": [
    "# Encapsulation"
   ]
  },
  {
   "cell_type": "markdown",
   "id": "6213f694",
   "metadata": {},
   "source": [
    "-:Binding the datamember and method under single unit is called encapsulation\n",
    "\n",
    "ex-apartment,techpark"
   ]
  },
  {
   "cell_type": "markdown",
   "id": "8616f841",
   "metadata": {},
   "source": [
    "# Access modifier"
   ]
  },
  {
   "cell_type": "markdown",
   "id": "374f2357",
   "metadata": {},
   "source": [
    "-:public access modifier.\n",
    "\n",
    "-:protected access modifier.\n",
    "\n",
    "-:private access modifier."
   ]
  },
  {
   "cell_type": "markdown",
   "id": "1e332512",
   "metadata": {},
   "source": [
    "# public access modifier"
   ]
  },
  {
   "cell_type": "markdown",
   "id": "b2c2a613",
   "metadata": {},
   "source": [
    "-:by declared all the variables are declared as public.\n",
    "\n",
    "-:we can access it anywhere in the package any package or same package."
   ]
  },
  {
   "cell_type": "markdown",
   "id": "62f4cdf3",
   "metadata": {},
   "source": [
    "# protected access modifier"
   ]
  },
  {
   "cell_type": "markdown",
   "id": "01232725",
   "metadata": {},
   "source": [
    "-:variable are declared as protected using single _ .\n",
    "\n",
    "-:protected data datamember can be accessed any where in the same package but not in different package."
   ]
  },
  {
   "cell_type": "markdown",
   "id": "41d6df21",
   "metadata": {},
   "source": [
    "# private access modifier"
   ]
  },
  {
   "cell_type": "markdown",
   "id": "89b9527a",
   "metadata": {},
   "source": [
    "-: it is declared with the help of double __.\n",
    "    \n",
    "-:we can access it only with in same class."
   ]
  },
  {
   "cell_type": "markdown",
   "id": "aafb8b43",
   "metadata": {},
   "source": [
    "ex-"
   ]
  },
  {
   "cell_type": "code",
   "execution_count": 7,
   "id": "f610e22f",
   "metadata": {},
   "outputs": [
    {
     "name": "stdout",
     "output_type": "stream",
     "text": [
      "100\n",
      "300\n",
      "500\n",
      "100\n",
      "300\n"
     ]
    },
    {
     "ename": "AttributeError",
     "evalue": "'M3' object has no attribute '__c'",
     "output_type": "error",
     "traceback": [
      "\u001b[1;31m---------------------------------------------------------------------------\u001b[0m",
      "\u001b[1;31mAttributeError\u001b[0m                            Traceback (most recent call last)",
      "\u001b[1;32m~\\AppData\\Local\\Temp\\ipykernel_1352\\662960202.py\u001b[0m in \u001b[0;36m<module>\u001b[1;34m\u001b[0m\n\u001b[0;32m     13\u001b[0m \u001b[0mprint\u001b[0m\u001b[1;33m(\u001b[0m\u001b[0mobj\u001b[0m\u001b[1;33m.\u001b[0m\u001b[0ma\u001b[0m\u001b[1;33m)\u001b[0m\u001b[1;33m\u001b[0m\u001b[1;33m\u001b[0m\u001b[0m\n\u001b[0;32m     14\u001b[0m \u001b[0mprint\u001b[0m\u001b[1;33m(\u001b[0m\u001b[0mobj\u001b[0m\u001b[1;33m.\u001b[0m\u001b[0m_b\u001b[0m\u001b[1;33m)\u001b[0m\u001b[1;33m\u001b[0m\u001b[1;33m\u001b[0m\u001b[0m\n\u001b[1;32m---> 15\u001b[1;33m \u001b[0mprint\u001b[0m\u001b[1;33m(\u001b[0m\u001b[0mobj\u001b[0m\u001b[1;33m.\u001b[0m\u001b[0m__c\u001b[0m\u001b[1;33m)\u001b[0m\u001b[1;33m\u001b[0m\u001b[1;33m\u001b[0m\u001b[0m\n\u001b[0m",
      "\u001b[1;31mAttributeError\u001b[0m: 'M3' object has no attribute '__c'"
     ]
    }
   ],
   "source": [
    "class M3:\n",
    "    def __init__(self):\n",
    "        self.a   = 100\n",
    "        self._b  = 300\n",
    "        self.__c = 500\n",
    "    def method(self):\n",
    "        print(self.a)\n",
    "        print(self._b)\n",
    "        print(self.__c)\n",
    "obj = M3()\n",
    "obj.method()\n",
    "\n",
    "print(obj.a)\n",
    "print(obj._b)\n",
    "print(obj.__c)"
   ]
  },
  {
   "cell_type": "markdown",
   "id": "ede8a2a6",
   "metadata": {},
   "source": [
    "# Package"
   ]
  },
  {
   "cell_type": "markdown",
   "id": "a52e17a3",
   "metadata": {},
   "source": [
    "-:this nothing but some set of module with one --init--.py file.\n",
    "\n",
    "-:This --init--.py is an empty file"
   ]
  },
  {
   "cell_type": "markdown",
   "id": "63861e7f",
   "metadata": {},
   "source": [
    "# Library"
   ]
  },
  {
   "cell_type": "markdown",
   "id": "a592e9f8",
   "metadata": {},
   "source": [
    "it is a collection of module."
   ]
  },
  {
   "cell_type": "markdown",
   "id": "2fb2c8cb",
   "metadata": {},
   "source": [
    "This method is uesd to access the private variable"
   ]
  },
  {
   "cell_type": "markdown",
   "id": "3f86fdfe",
   "metadata": {},
   "source": [
    "# getter method"
   ]
  },
  {
   "cell_type": "markdown",
   "id": "98be31fc",
   "metadata": {},
   "source": [
    "-:This method is used to access the private variable outside the class.\n",
    "\n",
    "ex-"
   ]
  },
  {
   "cell_type": "code",
   "execution_count": 10,
   "id": "7e92e316",
   "metadata": {},
   "outputs": [
    {
     "name": "stdout",
     "output_type": "stream",
     "text": [
      "500\n"
     ]
    }
   ],
   "source": [
    "class m3:\n",
    "    def __init__(self):\n",
    "        self.__c = 500\n",
    "    def getter(self):\n",
    "        return self.__c\n",
    "obj=m3()\n",
    "print(obj.getter())"
   ]
  },
  {
   "cell_type": "markdown",
   "id": "978b168d",
   "metadata": {},
   "source": [
    "# setter method"
   ]
  },
  {
   "cell_type": "markdown",
   "id": "c22dacf5",
   "metadata": {},
   "source": [
    "-:This method is used to modified the private data member variables outside the class."
   ]
  },
  {
   "cell_type": "markdown",
   "id": "2a9b6167",
   "metadata": {},
   "source": [
    "ex-"
   ]
  },
  {
   "cell_type": "code",
   "execution_count": 11,
   "id": "d996d241",
   "metadata": {},
   "outputs": [
    {
     "name": "stdout",
     "output_type": "stream",
     "text": [
      "100\n",
      "200\n"
     ]
    }
   ],
   "source": [
    "class mno:\n",
    "    def __init__(self):\n",
    "        self.__a = 100\n",
    "    def getter(self):\n",
    "        return self.__a\n",
    "    def setter(self,val):\n",
    "        self.__a = val\n",
    "\n",
    "m1=mno()\n",
    "print(m1.getter())\n",
    "m1.setter(200)\n",
    "print(m1.getter())"
   ]
  },
  {
   "cell_type": "markdown",
   "id": "7180ce08",
   "metadata": {},
   "source": [
    "# Note"
   ]
  },
  {
   "cell_type": "markdown",
   "id": "13eaa1ba",
   "metadata": {},
   "source": [
    "-: access modifier are use with the help of encapsulation.\n",
    "\n",
    "-:so ,we can say encapsulasion is helping for data protection by declaring data member private.\n",
    "\n",
    "-:datamembers are decleared as private to avoid accidental modifier of valueble data by unothorised user."
   ]
  },
  {
   "cell_type": "markdown",
   "id": "cddb272c",
   "metadata": {},
   "source": [
    "# Polymorphism"
   ]
  },
  {
   "cell_type": "markdown",
   "id": "3b13fa00",
   "metadata": {},
   "source": [
    "-:one object having more then one behaviour or object having many forms is called polymorphism\n",
    "\n",
    "-:it can be achived.\n",
    "\n",
    "1-overriding (runtime polymorphism).\n",
    "\n",
    "2-overloading (compile time polymorphism)\n",
    "\n",
    "ex-human-son-father-brother"
   ]
  },
  {
   "cell_type": "markdown",
   "id": "875aede8",
   "metadata": {},
   "source": [
    "# over-riding"
   ]
  },
  {
   "cell_type": "markdown",
   "id": "bd92fde9",
   "metadata": {},
   "source": [
    "-:to perform overriding inheritance is must.\n",
    "\n",
    "-:we have to declare method with same name and same method signature in parent class and child class.\n",
    "\n",
    "-:parent class method overriding with child class."
   ]
  },
  {
   "cell_type": "markdown",
   "id": "adeb8d02",
   "metadata": {},
   "source": [
    "ex-"
   ]
  },
  {
   "cell_type": "code",
   "execution_count": 19,
   "id": "a782c706",
   "metadata": {},
   "outputs": [
    {
     "name": "stdout",
     "output_type": "stream",
     "text": [
      "m1 of B\n"
     ]
    }
   ],
   "source": [
    "class A:\n",
    "    def m1(self):\n",
    "        print('m1 of A')\n",
    "class B(A):\n",
    "    def m1(self):\n",
    "        print('m1 of B')\n",
    "obj = B()\n",
    "obj.m1()"
   ]
  },
  {
   "cell_type": "markdown",
   "id": "63f1d47e",
   "metadata": {},
   "source": [
    "# overloading"
   ]
  },
  {
   "cell_type": "markdown",
   "id": "daba4d58",
   "metadata": {},
   "source": [
    "-:in a class we have to declare multiple methods with same name and different method signature.\n",
    "\n",
    "-:in python overloading is not  possible because it takes latest define method."
   ]
  },
  {
   "cell_type": "markdown",
   "id": "02ef87ed",
   "metadata": {},
   "source": [
    "ex-"
   ]
  },
  {
   "cell_type": "code",
   "execution_count": 13,
   "id": "6babd72c",
   "metadata": {},
   "outputs": [
    {
     "name": "stdout",
     "output_type": "stream",
     "text": [
      "140\n"
     ]
    }
   ],
   "source": [
    "class A:\n",
    "    def add(self,a,b):\n",
    "        return a+b\n",
    "    def add(self,a,b,c):\n",
    "         return a+b+c\n",
    "    def add(self,a,b,c,d):\n",
    "        return a+b+c+d\n",
    "a1 = A()\n",
    "print(a1.add(10,30,40,60))"
   ]
  },
  {
   "cell_type": "markdown",
   "id": "22043a01",
   "metadata": {},
   "source": [
    "-:but we can achive it with the help of default argument and variable length argument."
   ]
  },
  {
   "cell_type": "markdown",
   "id": "6a49cd60",
   "metadata": {},
   "source": [
    "ex-"
   ]
  },
  {
   "cell_type": "code",
   "execution_count": 14,
   "id": "ad8ddd6f",
   "metadata": {},
   "outputs": [
    {
     "name": "stdout",
     "output_type": "stream",
     "text": [
      "3\n",
      "7\n",
      "15\n"
     ]
    }
   ],
   "source": [
    "class A:\n",
    "    def add(self,*args):\n",
    "        res=0\n",
    "        for num in args:\n",
    "            res+=num\n",
    "        return res\n",
    "a1 = A()\n",
    "print(a1.add(1,2))\n",
    "print(a1.add(3,4))\n",
    "print(a1.add(7,8))"
   ]
  },
  {
   "cell_type": "markdown",
   "id": "0a8d2196",
   "metadata": {},
   "source": [
    "# Abstraction"
   ]
  },
  {
   "cell_type": "markdown",
   "id": "2c08f610",
   "metadata": {},
   "source": [
    "-: it is a process of hiding internal implimatation and showing only basic functionality to the user.\n",
    "\n",
    "-:user know only what is happending but how it is happening will be unkown."
   ]
  },
  {
   "cell_type": "markdown",
   "id": "870c9d59",
   "metadata": {},
   "source": [
    "ex-"
   ]
  },
  {
   "cell_type": "code",
   "execution_count": 1,
   "id": "93aa4a6e",
   "metadata": {},
   "outputs": [
    {
     "name": "stdout",
     "output_type": "stream",
     "text": [
      "walk with 4 leg\n",
      "walk with 4 leg\n",
      "walk with 4 leg\n",
      "Bhow Bhow\n"
     ]
    }
   ],
   "source": [
    "from abc import ABC, abstractmethod\n",
    "\n",
    "class Animal(ABC):\n",
    "    @abstractmethod\n",
    "    def speak(self):\n",
    "        pass\n",
    "    def walk(self):\n",
    "        print('walk with 4 leg')                #concretmethod\n",
    "        \n",
    "class Dog(Animal):\n",
    "    def speak(self):\n",
    "        print('Bhow Bhow')\n",
    "\n",
    "class Cat(Animal):\n",
    "    def speak(self):\n",
    "        print('Meow Meow')\n",
    "\n",
    "class Goat(Animal):\n",
    "    def speak(self):\n",
    "        print('Mehhhh')\n",
    "d1 = Dog()\n",
    "c1 = Cat()\n",
    "g1 = Goat()\n",
    "\n",
    "d1.walk()\n",
    "c1.walk()\n",
    "g1.walk()\n",
    "\n",
    "d1.speak()"
   ]
  },
  {
   "cell_type": "markdown",
   "id": "519442c8",
   "metadata": {},
   "source": [
    "Note"
   ]
  },
  {
   "cell_type": "markdown",
   "id": "e369d433",
   "metadata": {},
   "source": [
    "For abstractmethod creating implitation in child class is necessary."
   ]
  },
  {
   "cell_type": "markdown",
   "id": "454c7f64",
   "metadata": {},
   "source": [
    "Note"
   ]
  },
  {
   "cell_type": "markdown",
   "id": "71cf98c9",
   "metadata": {},
   "source": [
    "-:abstract class is created by inheriting properties from ABC.\n",
    "\n",
    "-:abstractmethod is creating by using @abstractmethod decorater.\n",
    "\n",
    "-:abstract method should not have any implimatation.\n",
    "\n",
    "-:we can not creat object for abstract class."
   ]
  },
  {
   "cell_type": "code",
   "execution_count": 16,
   "id": "f1a5a924",
   "metadata": {},
   "outputs": [
    {
     "name": "stdout",
     "output_type": "stream",
     "text": [
      "Himalaya Mileage: 28 CC: 411\n",
      "Classic Mileage: 35 CC: 349\n",
      "GT Mileage: 15 CC: 648\n",
      "Thunderbird Mileage: 30 CC: 500\n"
     ]
    }
   ],
   "source": [
    "from abc import ABC, abstractmethod\n",
    "\n",
    "class RoyalEnfield(ABC):\n",
    "    @abstractmethod\n",
    "    def mileage(self):\n",
    "        pass\n",
    "\n",
    "    @abstractmethod\n",
    "    def cc(self):\n",
    "        pass\n",
    "\n",
    "class Himalaya(RoyalEnfield):\n",
    "    def mileage(self):\n",
    "        return 28\n",
    "\n",
    "    def cc(self):\n",
    "        return 411\n",
    "class Classic(RoyalEnfield):\n",
    "    def mileage(self):\n",
    "        return 35\n",
    "\n",
    "    def cc(self):\n",
    "        return 349\n",
    "\n",
    "class GT(RoyalEnfield):\n",
    "    def mileage(self):\n",
    "        return 15\n",
    "\n",
    "    def cc(self):\n",
    "        return 648\n",
    "\n",
    "class Thunderbird(RoyalEnfield):\n",
    "    def mileage(self):\n",
    "        return 30\n",
    "\n",
    "    def cc(self):\n",
    "        return 500\n",
    "\n",
    "# Creating motorcycle classes\n",
    "h1 = Himalaya()\n",
    "c1= Classic()\n",
    "g1 = GT()\n",
    "t1= Thunderbird()\n",
    "\n",
    "# Calling the methods to print mileage and cc\n",
    "print(\"Himalaya Mileage:\", h1.mileage(), \"CC:\", h1.cc())\n",
    "print(\"Classic Mileage:\",c1.mileage(), \"CC:\", c1.cc())\n",
    "print(\"GT Mileage:\", g1.mileage(), \"CC:\", g1.cc())\n",
    "print(\"Thunderbird Mileage:\", t1.mileage(), \"CC:\", t1.cc())\n"
   ]
  },
  {
   "cell_type": "markdown",
   "id": "4f6a7af1",
   "metadata": {},
   "source": [
    "# magic method"
   ]
  },
  {
   "cell_type": "markdown",
   "id": "239e8d1a",
   "metadata": {},
   "source": [
    "-:magic method starts and ends with __ we can call it as double under method or dunder method.\n",
    "\n",
    "-:magic methods are called by performing any operation."
   ]
  },
  {
   "cell_type": "markdown",
   "id": "36cf9130",
   "metadata": {},
   "source": [
    "ex-"
   ]
  },
  {
   "cell_type": "code",
   "execution_count": 8,
   "id": "6adf8cc4",
   "metadata": {},
   "outputs": [
    {
     "name": "stdout",
     "output_type": "stream",
     "text": [
      "object is created\n",
      "object is destroyed\n",
      "<__main__.mno object at 0x00000218793C04C0>\n"
     ]
    }
   ],
   "source": [
    "class mno:\n",
    "    def __init__(self):\n",
    "        print('object is created')\n",
    "    \n",
    "    def __del__(self):\n",
    "        print('object is destroyed')\n",
    "        \n",
    "m1 = mno()\n",
    "print(m1)"
   ]
  },
  {
   "cell_type": "markdown",
   "id": "4da931f0",
   "metadata": {},
   "source": [
    "# destructor"
   ]
  },
  {
   "cell_type": "markdown",
   "id": "340e7672",
   "metadata": {},
   "source": [
    "-: --del-- it is a magic method when object is destroyed\n",
    "\n",
    "-: it takes mandatory argument self that takes address of object."
   ]
  },
  {
   "cell_type": "markdown",
   "id": "3c800d0f",
   "metadata": {},
   "source": [
    "# operator overloading"
   ]
  },
  {
   "cell_type": "markdown",
   "id": "25673d1d",
   "metadata": {},
   "source": [
    "-: it is a process of giving extend meaning for predefined operator.\n"
   ]
  },
  {
   "cell_type": "markdown",
   "id": "1e34a8c9",
   "metadata": {},
   "source": [
    "ex-"
   ]
  },
  {
   "cell_type": "code",
   "execution_count": 1,
   "id": "cc0b6db6",
   "metadata": {},
   "outputs": [
    {
     "name": "stdout",
     "output_type": "stream",
     "text": [
      "30\n",
      "-10\n",
      "10\n",
      "200\n"
     ]
    }
   ],
   "source": [
    "class mno:\n",
    "    def __init__(self, a):\n",
    "        self.a = a\n",
    "        \n",
    "    def __add__(self1, self2):\n",
    "        return self1.a + self2.a\n",
    "    \n",
    "    def __sub__(self1, self2):\n",
    "        return self1.a - self2.a\n",
    "    \n",
    "    def __mul__(self1, self2):\n",
    "        return self1.a * self2.a\n",
    "    \n",
    "m1 = mno(10)\n",
    "m2 = mno(20)\n",
    "\n",
    "print(m1 + m2) \n",
    "print(m1 - m2)  \n",
    "print(m2 - m1) \n",
    "print(m1 * m2)  \n"
   ]
  },
  {
   "cell_type": "code",
   "execution_count": null,
   "id": "ff900f1a",
   "metadata": {},
   "outputs": [],
   "source": []
  }
 ],
 "metadata": {
  "kernelspec": {
   "display_name": "Python 3 (ipykernel)",
   "language": "python",
   "name": "python3"
  },
  "language_info": {
   "codemirror_mode": {
    "name": "ipython",
    "version": 3
   },
   "file_extension": ".py",
   "mimetype": "text/x-python",
   "name": "python",
   "nbconvert_exporter": "python",
   "pygments_lexer": "ipython3",
   "version": "3.9.13"
  }
 },
 "nbformat": 4,
 "nbformat_minor": 5
}
