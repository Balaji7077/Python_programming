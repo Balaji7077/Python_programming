{
 "cells": [
  {
   "cell_type": "code",
   "execution_count": 5,
   "id": "1035daf9",
   "metadata": {},
   "outputs": [
    {
     "name": "stdout",
     "output_type": "stream",
     "text": [
      "prime\n"
     ]
    }
   ],
   "source": [
    "#prime no-1\n",
    "num=13\n",
    "count=0\n",
    "for fa in range(1,num+1):\n",
    "    if num%fa==0:\n",
    "        count+=1\n",
    "if count==2:\n",
    "    print('prime')\n",
    "else:\n",
    "    print('not prime')"
   ]
  },
  {
   "cell_type": "code",
   "execution_count": 2,
   "id": "acfd7136",
   "metadata": {},
   "outputs": [
    {
     "name": "stdout",
     "output_type": "stream",
     "text": [
      "prime\n"
     ]
    }
   ],
   "source": [
    "#prime no-2\n",
    "num=13\n",
    "if num>1:\n",
    "    for fa in range(2,num//2+1):\n",
    "        if num%fa==0:\n",
    "            print('not prime')\n",
    "            break\n",
    "    else:\n",
    "        print('prime')\n",
    "else:\n",
    "    print('not prime')"
   ]
  },
  {
   "cell_type": "code",
   "execution_count": 3,
   "id": "068ae85b",
   "metadata": {},
   "outputs": [
    {
     "name": "stdout",
     "output_type": "stream",
     "text": [
      "composite\n"
     ]
    }
   ],
   "source": [
    "#composite\n",
    "num=12\n",
    "count=0\n",
    "for fa in range(1,num+1):\n",
    "    if num%fa==0:\n",
    "        count+=1\n",
    "if count>2:\n",
    "    print('composite')\n",
    "else:\n",
    "    print('not composite')"
   ]
  },
  {
   "cell_type": "code",
   "execution_count": 12,
   "id": "48940653",
   "metadata": {},
   "outputs": [
    {
     "name": "stdout",
     "output_type": "stream",
     "text": [
      "perfect\n"
     ]
    }
   ],
   "source": [
    "#perfect\n",
    "num=6\n",
    "Sum=0\n",
    "for fa in range(1,num//2+1):\n",
    "    if num%fa==0:\n",
    "        Sum+=fa\n",
    "if Sum==num:\n",
    "    print('perfect')\n",
    "else:\n",
    "    print('not perfect')"
   ]
  },
  {
   "cell_type": "code",
   "execution_count": 3,
   "id": "28ac73e3",
   "metadata": {},
   "outputs": [
    {
     "name": "stdout",
     "output_type": "stream",
     "text": [
      "pronic\n"
     ]
    }
   ],
   "source": [
    "#pronic\n",
    "num=20\n",
    "n=0\n",
    "while (n*(n+1)<=(num)):\n",
    "    if (n*(n+1)==num):\n",
    "        print('pronic')\n",
    "        break\n",
    "    n+=1\n",
    "else:\n",
    "    print('not pronic')"
   ]
  },
  {
   "cell_type": "code",
   "execution_count": 10,
   "id": "d93957f2",
   "metadata": {},
   "outputs": [
    {
     "name": "stdout",
     "output_type": "stream",
     "text": [
      "sunny\n"
     ]
    }
   ],
   "source": [
    "#sunny\n",
    "num=8\n",
    "n=0\n",
    "while (n**2<=(num+1)):\n",
    "       if (n**2==(num+1)):\n",
    "           print('sunny')\n",
    "           break\n",
    "       n+=1\n",
    "else:\n",
    "    print('not sunny')"
   ]
  },
  {
   "cell_type": "code",
   "execution_count": 11,
   "id": "9817be33",
   "metadata": {},
   "outputs": [
    {
     "name": "stdout",
     "output_type": "stream",
     "text": [
      "not niven\n"
     ]
    }
   ],
   "source": [
    "#niven\n",
    "\n",
    "num=123\n",
    "copy=num\n",
    "add=0\n",
    "while num!=0:\n",
    "    rem=num%10\n",
    "    add+=rem\n",
    "    num//=10\n",
    "else:\n",
    "    if copy%add==0:\n",
    "        print('niven')\n",
    "    else:\n",
    "        print('not niven')"
   ]
  },
  {
   "cell_type": "code",
   "execution_count": 12,
   "id": "f6cb6648",
   "metadata": {},
   "outputs": [
    {
     "name": "stdout",
     "output_type": "stream",
     "text": [
      "palindrom\n"
     ]
    }
   ],
   "source": [
    "#no palindrom\n",
    "\n",
    "num=121\n",
    "copy=num\n",
    "rev=0\n",
    "while num!=0:\n",
    "    rem=num%10\n",
    "    rev=rev*10+rem\n",
    "    num//=10\n",
    "if copy==rev:\n",
    "    print('palindrom')\n",
    "else:\n",
    "    print('not palindrom')"
   ]
  },
  {
   "cell_type": "code",
   "execution_count": 23,
   "id": "d20f6a32",
   "metadata": {},
   "outputs": [
    {
     "name": "stdout",
     "output_type": "stream",
     "text": [
      "emirp\n"
     ]
    }
   ],
   "source": [
    "#emipr\n",
    "\n",
    "num=17\n",
    "copy=num\n",
    "rev=0\n",
    "count=0\n",
    "count1=0\n",
    "while num!=0:\n",
    "    rem=num%10\n",
    "    rev=rev*10+rem\n",
    "    num//=10\n",
    "if copy!=rev:\n",
    "    for fa in range(2,copy//2+1):\n",
    "        if copy%fa==0:\n",
    "            count+=1\n",
    "            print('not emirp')\n",
    "            break\n",
    "    for fa in range(2,rev//2+1):\n",
    "        if rev%fa==0:\n",
    "            count1+=1\n",
    "            print('not emirp')\n",
    "            break\n",
    "    else:\n",
    "        print('emirp')\n",
    "        \n",
    "else:\n",
    "    print('not emirp')"
   ]
  },
  {
   "cell_type": "code",
   "execution_count": 1,
   "id": "df69e1ee",
   "metadata": {},
   "outputs": [
    {
     "name": "stdout",
     "output_type": "stream",
     "text": [
      "spy\n"
     ]
    }
   ],
   "source": [
    "#spy\n",
    "num=123\n",
    "p=1\n",
    "Sum=0\n",
    "while num!=0:\n",
    "    rem =num%10\n",
    "    Sum+=rem\n",
    "    p*=rem\n",
    "    num//=10\n",
    "if Sum==p:\n",
    "    print('spy')\n",
    "else:\n",
    "    print('not spy')"
   ]
  },
  {
   "cell_type": "code",
   "execution_count": 3,
   "id": "1767c69d",
   "metadata": {},
   "outputs": [
    {
     "name": "stdout",
     "output_type": "stream",
     "text": [
      "armstrong\n"
     ]
    }
   ],
   "source": [
    "#Armstrong\n",
    "num=153\n",
    "copy=num\n",
    "res=0\n",
    "p=len(str(num))\n",
    "while num!=0:\n",
    "    rem=num%10\n",
    "    res+=rem**p\n",
    "    num//=10\n",
    "if copy==res:\n",
    "    print('armstrong')\n",
    "else:\n",
    "    print('not armstrong')"
   ]
  },
  {
   "cell_type": "code",
   "execution_count": 5,
   "id": "a2e004c8",
   "metadata": {},
   "outputs": [
    {
     "name": "stdout",
     "output_type": "stream",
     "text": [
      "disarium\n"
     ]
    }
   ],
   "source": [
    "#disarium\n",
    "num=135\n",
    "copy=num\n",
    "res=0\n",
    "p=len(str(num))\n",
    "while num!=0:\n",
    "    rem=num%10\n",
    "    res+=rem**p\n",
    "    num//=10\n",
    "    p-=1\n",
    "if copy==res:\n",
    "    print('disarium')\n",
    "else:\n",
    "    print('not disarium')"
   ]
  },
  {
   "cell_type": "code",
   "execution_count": 1,
   "id": "bfd90f40",
   "metadata": {},
   "outputs": [
    {
     "name": "stdout",
     "output_type": "stream",
     "text": [
      "strong\n"
     ]
    }
   ],
   "source": [
    "#strong \n",
    "num=145\n",
    "res=0\n",
    "copy=num\n",
    "while num!=0:\n",
    "    rem=num%10\n",
    "    fact=1\n",
    "    for x in range(1,rem+1):\n",
    "        fact*=x\n",
    "    res+=fact\n",
    "    num//=10\n",
    "if copy==res:\n",
    "    print('strong')\n",
    "else:\n",
    "    print('not strong')"
   ]
  },
  {
   "cell_type": "code",
   "execution_count": 2,
   "id": "ce58741a",
   "metadata": {},
   "outputs": [
    {
     "name": "stdout",
     "output_type": "stream",
     "text": [
      "neon\n"
     ]
    }
   ],
   "source": [
    "#neon\n",
    "num=9\n",
    "sq=num**2\n",
    "res=0\n",
    "while sq!=0:\n",
    "    rem =sq%10\n",
    "    res+=rem\n",
    "    sq//=10\n",
    "if num==res:\n",
    "    print('neon')\n",
    "else:\n",
    "    print('not neon')"
   ]
  },
  {
   "cell_type": "code",
   "execution_count": 4,
   "id": "10e73986",
   "metadata": {},
   "outputs": [
    {
     "name": "stdout",
     "output_type": "stream",
     "text": [
      "auto\n"
     ]
    }
   ],
   "source": [
    "#automorphic\n",
    "num=25\n",
    "p=len(str(num))\n",
    "sq=num**2\n",
    "rem=sq%(10**p)\n",
    "if num==rem:\n",
    "    print('auto')\n",
    "else:\n",
    "    print('not auto')"
   ]
  },
  {
   "cell_type": "code",
   "execution_count": 5,
   "id": "a48d9ede",
   "metadata": {},
   "outputs": [
    {
     "name": "stdout",
     "output_type": "stream",
     "text": [
      "trimorphic\n"
     ]
    }
   ],
   "source": [
    "#triomorphic\n",
    "num=6\n",
    "p=len(str(num))\n",
    "cube=num**3\n",
    "sq=10**p\n",
    "if num==cube%sq:\n",
    "    print('trimorphic')\n",
    "else:\n",
    "    print('not')"
   ]
  },
  {
   "cell_type": "code",
   "execution_count": 6,
   "id": "82f79d0f",
   "metadata": {},
   "outputs": [
    {
     "name": "stdout",
     "output_type": "stream",
     "text": [
      "happy\n"
     ]
    }
   ],
   "source": [
    "#happy\n",
    "num=100\n",
    "res=0\n",
    "while num>9:\n",
    "    while num!=0:\n",
    "        rem=num%10\n",
    "        res+=rem**2\n",
    "        num//=10\n",
    "    num=res\n",
    "if num==1:\n",
    "    print('happy')\n",
    "else:\n",
    "    print('not happy')"
   ]
  },
  {
   "cell_type": "code",
   "execution_count": 8,
   "id": "2f12dbbe",
   "metadata": {},
   "outputs": [
    {
     "name": "stdout",
     "output_type": "stream",
     "text": [
      "evil\n"
     ]
    }
   ],
   "source": [
    "#evil_or_odious\n",
    "num=27\n",
    "res=0\n",
    "while num!=0:\n",
    "    rem=num%2\n",
    "    res+=rem\n",
    "    num//=2\n",
    "if res%2==0:\n",
    "    print('evil')\n",
    "else:\n",
    "    print('odious')"
   ]
  },
  {
   "cell_type": "code",
   "execution_count": 1,
   "id": "4d9680df",
   "metadata": {},
   "outputs": [
    {
     "name": "stdout",
     "output_type": "stream",
     "text": [
      "10100\n"
     ]
    }
   ],
   "source": [
    "#Decimal_to_binary\n",
    "num = 20\n",
    "pos = 1\n",
    "Bin = 0\n",
    "\n",
    "while num != 0:\n",
    "    rem = num % 2\n",
    "    Bin += rem * pos\n",
    "    pos *= 10\n",
    "    num //= 2  \n",
    "\n",
    "print(Bin)\n"
   ]
  },
  {
   "cell_type": "code",
   "execution_count": 9,
   "id": "1f2ac10f",
   "metadata": {},
   "outputs": [
    {
     "name": "stdout",
     "output_type": "stream",
     "text": [
      "20\n"
     ]
    }
   ],
   "source": [
    "#binary_to_decimal\n",
    "Bin = 10100\n",
    "res = 0\n",
    "pos = 1\n",
    "\n",
    "while Bin != 0:\n",
    "    rem = Bin % 10\n",
    "    res += pos * rem\n",
    "    Bin //= 10\n",
    "    pos *= 2\n",
    "\n",
    "print(res)\n"
   ]
  },
  {
   "cell_type": "code",
   "execution_count": null,
   "id": "40e7a934",
   "metadata": {},
   "outputs": [],
   "source": []
  }
 ],
 "metadata": {
  "kernelspec": {
   "display_name": "Python 3 (ipykernel)",
   "language": "python",
   "name": "python3"
  },
  "language_info": {
   "codemirror_mode": {
    "name": "ipython",
    "version": 3
   },
   "file_extension": ".py",
   "mimetype": "text/x-python",
   "name": "python",
   "nbconvert_exporter": "python",
   "pygments_lexer": "ipython3",
   "version": "3.9.13"
  }
 },
 "nbformat": 4,
 "nbformat_minor": 5
}
